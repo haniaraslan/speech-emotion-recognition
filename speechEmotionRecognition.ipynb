{
  "nbformat": 4,
  "nbformat_minor": 0,
  "metadata": {
    "colab": {
      "name": "lastone.ipynb",
      "provenance": [],
      "collapsed_sections": [
        "sN40CS6qSVUJ",
        "OuUt90atSaUL",
        "eu5yLh5iSfLU",
        "O9TQOXrij9iU",
        "skh8pcBL-7c2",
        "mtYMSt9FSETC",
        "fZAagD0FflGc",
        "0jvXUHulgzLu",
        "KAh4mrYYuTh0",
        "yL8d34CTuZsa",
        "6vzATmKsuqpa",
        "B9vSWxEa0Uca",
        "PdPNTvHW0b7I",
        "ItHeoVj30PS5",
        "23sJ9Njap6mH",
        "m9lp-lQQq6_B",
        "w638zKtPxMbh",
        "Aykp4onMduOh",
        "Nnu8NG1JkxdP",
        "fJzxJh5Tl-sZ",
        "n0dz_3ET9qHj",
        "NF4R-GDu-gWC",
        "PMji6eIbHBw7",
        "_uf4f9l5ktFU",
        "MN8ek-3-HxgS"
      ]
    },
    "kernelspec": {
      "display_name": "Python 3",
      "name": "python3"
    },
    "language_info": {
      "name": "python"
    },
    "accelerator": "GPU"
  },
  "cells": [
    {
      "cell_type": "code",
      "metadata": {
        "id": "gAvG1omxjo0Y",
        "colab": {
          "base_uri": "https://localhost:8080/"
        },
        "outputId": "116ff753-6eb6-4b52-d557-6e639f50c418"
      },
      "source": [
        "from google.colab import drive\n",
        "drive.mount('/content/drive')"
      ],
      "execution_count": null,
      "outputs": [
        {
          "output_type": "stream",
          "text": [
            "Mounted at /content/drive\n"
          ],
          "name": "stdout"
        }
      ]
    },
    {
      "cell_type": "code",
      "metadata": {
        "id": "Qxraa4Xyfvrf",
        "colab": {
          "base_uri": "https://localhost:8080/"
        },
        "outputId": "fae2301c-d4bf-4118-d7f8-308766d353ad"
      },
      "source": [
        "!pip install pygame\n"
      ],
      "execution_count": null,
      "outputs": [
        {
          "output_type": "stream",
          "text": [
            "Requirement already satisfied: pygame in /usr/local/lib/python3.7/dist-packages (2.0.1)\n"
          ],
          "name": "stdout"
        }
      ]
    },
    {
      "cell_type": "markdown",
      "metadata": {
        "id": "sN40CS6qSVUJ"
      },
      "source": [
        "# Imports"
      ]
    },
    {
      "cell_type": "code",
      "metadata": {
        "id": "mwlEeozi0jt8"
      },
      "source": [
        "import numpy as np\n",
        "from os import listdir\n",
        "from os.path import isfile, join\n",
        "import os\n",
        "import math\n",
        "from scipy.io import loadmat\n",
        "import matplotlib.pyplot as plt\n",
        "import cv2\n",
        "from numpy import linalg as LA\n",
        "import pandas as pd\n",
        "from sklearn.metrics import f1_score\n",
        "from sklearn.metrics.cluster import homogeneity_score\n",
        "from scipy.io import wavfile\n",
        "import IPython\n",
        "import IPython.display as ipd\n",
        "from IPython.display import Audio\n",
        "import librosa    \n",
        "import librosa.display \n",
        "import keras\n",
        "from keras.models import Sequential,Input,Model\n",
        "from keras.layers import Conv1D, MaxPooling1D, AveragePooling1D, Conv2D, MaxPooling2D\n",
        "from keras.layers import Input, Flatten, Dropout, Activation, BatchNormalization, Dense\n",
        "from sklearn.model_selection import GridSearchCV\n",
        "from keras.wrappers.scikit_learn import KerasClassifier\n",
        "from keras.optimizers import SGD\n",
        "from keras.regularizers import l2\n",
        "import seaborn as sns\n",
        "from keras.callbacks import EarlyStopping, ModelCheckpoint\n",
        "from tensorflow.keras.utils import to_categorical\n",
        "from sklearn.metrics import classification_report\n",
        "from sklearn.preprocessing import LabelEncoder\n",
        "from sklearn.model_selection import train_test_split\n",
        "import torch\n",
        "from keras.layers.advanced_activations import LeakyReLU\n",
        "from sklearn.metrics import confusion_matrix\n",
        "import itertools"
      ],
      "execution_count": null,
      "outputs": []
    },
    {
      "cell_type": "markdown",
      "metadata": {
        "id": "OuUt90atSaUL"
      },
      "source": [
        "# Read Audio files"
      ]
    },
    {
      "cell_type": "code",
      "metadata": {
        "id": "rNG-Cy3QljEN"
      },
      "source": [
        "def read_audio(path):\n",
        "  filenames = [f[:-4] for f in listdir(path) if isfile(join(path, f)) and f.endswith('wav')]\n",
        "  emotion = []\n",
        "  totalpath = []\n",
        "  audio_signals = []#np.zeros((37371),int)\n",
        "  freq = []\n",
        "  CREMA_df = pd.DataFrame()\n",
        "  index = 0;\n",
        "  for filename in filenames:\n",
        "    crema = filename + '.wav'\n",
        "    total_path = os.path.join(path,crema)\n",
        "    frequency_sampling, audio_signal = wavfile.read(total_path)\n",
        "    audio_signals.append(audio_signal)\n",
        "    freq.append(frequency_sampling)\n",
        "\n",
        "    part = filename.split('_')\n",
        "    if part[2] == 'SAD' :\n",
        "         emotion.append('sad')\n",
        "    elif part[2] == 'DIS' :\n",
        "         emotion.append('disgust')\n",
        "    elif part[2] == 'FEA' :\n",
        "         emotion.append('fear')\n",
        "    elif part[2] == 'HAP' :\n",
        "         emotion.append('happy')\n",
        "    elif part[2] == 'NEU' :\n",
        "         emotion.append('neutral')\n",
        "    elif part[2] == 'ANG' :\n",
        "         emotion.append('angry')\n",
        "    else:\n",
        "         emotion.append('Unknown')\n",
        "    \n",
        "    totalpath.append(total_path)\n",
        "\n",
        "    CREMA_df = pd.DataFrame(audio_signals)\n",
        "    CREMA_df = CREMA_df.fillna(0)\n",
        "    padding = CREMA_df.values\n",
        "    data = pd.DataFrame(padding)\n",
        "    CREMA_df['data']=audio_signals\n",
        "    CREMA_df['label'] = emotion\n",
        "    CREMA_df['freq'] = freq\n",
        "    CREMA_df['path'] = totalpath\n",
        "  return data,CREMA_df;"
      ],
      "execution_count": null,
      "outputs": []
    },
    {
      "cell_type": "markdown",
      "metadata": {
        "id": "eu5yLh5iSfLU"
      },
      "source": [
        "# Plot and listen Audio"
      ]
    },
    {
      "cell_type": "code",
      "metadata": {
        "id": "Z-aagELwMSdr"
      },
      "source": [
        "def plot_listen_audio(audio_arr, freq_arr):\n",
        "  for audio, freq in zip(audio_arr, freq_arr):\n",
        "    time_axis = 1000 * np.arange(0, len(audio), 1) / float(freq)\n",
        "    plt.plot(time_axis, audio, color='blue')\n",
        "    plt.xlabel('Time (milliseconds)')\n",
        "    plt.ylabel('Amplitude')\n",
        "    plt.title('Input audio signal')\n",
        "    plt.show()\n",
        "    ipd.display(Audio(data = audio, rate = freq))"
      ],
      "execution_count": null,
      "outputs": []
    },
    {
      "cell_type": "markdown",
      "metadata": {
        "id": "O9TQOXrij9iU"
      },
      "source": [
        "# Feature Extraction"
      ]
    },
    {
      "cell_type": "code",
      "metadata": {
        "id": "1ShaZp85kChx"
      },
      "source": [
        "def feature_extraction(audio_signals, sampling_freq):\n",
        "  energy = []\n",
        "  zcr = []\n",
        "  melspec =[]\n",
        "  # new_array = np.zeros((100, 0, 0))\n",
        "  for audio, freq in zip(audio_signals, sampling_freq):\n",
        "\n",
        "    ############### ZERO CROSSING RATE ###############\n",
        "\n",
        "    z= librosa.feature.zero_crossing_rate(y = np.array(audio, \n",
        "                                                        dtype=float))\n",
        "    zcr.append(z.T)\n",
        "\n",
        "    ###############      ENERGY       ###############\n",
        "    energy.append((librosa.feature.rms(y = np.array(audio, dtype = float),\n",
        "                                center = False)).T)\n",
        "    \n",
        "    ###############   MELSPECTOGRAM   ###############\n",
        "    mel_spectrum = librosa.feature.melspectrogram(y = np.array(audio, \n",
        "                                                              dtype=float),\n",
        "                                                  center=False) \n",
        "    \n",
        "    melspec.append(mel_spectrum)\n",
        "  return zcr,melspec, energy\n"
      ],
      "execution_count": null,
      "outputs": []
    },
    {
      "cell_type": "markdown",
      "metadata": {
        "id": "skh8pcBL-7c2"
      },
      "source": [
        "# Data Agumentation"
      ]
    },
    {
      "cell_type": "code",
      "metadata": {
        "id": "sBzFgOmbTW7b"
      },
      "source": [
        "def noise(data, random=False, rate=0.035, threshold=0.075):\n",
        "    \"\"\"Add some noise to sound sample. Use random if you want to add random noise with some threshold.\n",
        "    Or use rate Random=False and rate for always adding fixed noise.\"\"\"\n",
        "    if random:\n",
        "        rate = np.random.random() * threshold\n",
        "    noise_amp = rate*np.random.uniform()*np.amax(data)\n",
        "    data = data + noise_amp*np.random.normal(size=data.shape)\n",
        "    return data"
      ],
      "execution_count": null,
      "outputs": []
    },
    {
      "cell_type": "code",
      "metadata": {
        "id": "P4F-NOmad-gu"
      },
      "source": [
        "def stretch(data, rate=0.8):\n",
        "    \"\"\"Stretching data with some rate.\"\"\"\n",
        "    return librosa.effects.time_stretch(data, rate)"
      ],
      "execution_count": null,
      "outputs": []
    },
    {
      "cell_type": "code",
      "metadata": {
        "id": "x_g8vIGreE8W"
      },
      "source": [
        "def shift(data, rate=1000):\n",
        "    \"\"\"Shifting data with some rate\"\"\"\n",
        "    shift_range = int(np.random.uniform(low=-5, high = 5)*rate)\n",
        "    return np.roll(data, shift_range)\n"
      ],
      "execution_count": null,
      "outputs": []
    },
    {
      "cell_type": "code",
      "metadata": {
        "colab": {
          "base_uri": "https://localhost:8080/",
          "height": 36
        },
        "id": "BwcyTyDDtjI6",
        "outputId": "e33ed9f3-6b1e-4074-9821-8760607ca8ce"
      },
      "source": [
        "import tensorflow as tf\n",
        "tf.test.gpu_device_name()"
      ],
      "execution_count": null,
      "outputs": [
        {
          "output_type": "execute_result",
          "data": {
            "application/vnd.google.colaboratory.intrinsic+json": {
              "type": "string"
            },
            "text/plain": [
              "'/device:GPU:0'"
            ]
          },
          "metadata": {
            "tags": []
          },
          "execution_count": 11
        }
      ]
    },
    {
      "cell_type": "markdown",
      "metadata": {
        "id": "mtYMSt9FSETC"
      },
      "source": [
        "# Main"
      ]
    },
    {
      "cell_type": "code",
      "metadata": {
        "id": "RaraGO-hIkKN"
      },
      "source": [
        "folder_path1 = '/content/drive/MyDrive/crema2'\n",
        "audio_signals1,df1 = read_audio(folder_path1)\n",
        "\n"
      ],
      "execution_count": null,
      "outputs": []
    },
    {
      "cell_type": "code",
      "metadata": {
        "id": "hCjAOeRS-MId"
      },
      "source": [
        "folder_path2 = '/content/drive/MyDrive/crema22'\n",
        "audio_signals2,df2 = read_audio(folder_path2)"
      ],
      "execution_count": null,
      "outputs": []
    },
    {
      "cell_type": "code",
      "metadata": {
        "id": "oDRzdG_9EnCC"
      },
      "source": [
        "folder_path3 = '/content/drive/MyDrive/crema33'\n",
        "audio_signals3,df3 = read_audio(folder_path3)"
      ],
      "execution_count": null,
      "outputs": []
    },
    {
      "cell_type": "code",
      "metadata": {
        "id": "84vZR4Y7whmn"
      },
      "source": [
        "folder_path4 = '/content/drive/MyDrive/cremmmmaaa'\n",
        "audio_signals4,df4 = read_audio(folder_path4)"
      ],
      "execution_count": null,
      "outputs": []
    },
    {
      "cell_type": "code",
      "metadata": {
        "id": "DblenVaG_gz9"
      },
      "source": [
        "folder_path5 = '/content/drive/MyDrive/alo'\n",
        "audio_signals5,df5 = read_audio(folder_path5)"
      ],
      "execution_count": null,
      "outputs": []
    },
    {
      "cell_type": "code",
      "metadata": {
        "id": "KsRIgfWa_8lU"
      },
      "source": [
        "df = pd.concat([df1,df2,df3,df4,df5],axis=0)"
      ],
      "execution_count": null,
      "outputs": []
    },
    {
      "cell_type": "code",
      "metadata": {
        "id": "PZHJtXLKLJCL"
      },
      "source": [
        "audio_signal = pd.concat([audio_signals1,audio_signals2,audio_signals3,audio_signals4,audio_signals5],axis = 0)"
      ],
      "execution_count": null,
      "outputs": []
    },
    {
      "cell_type": "code",
      "metadata": {
        "colab": {
          "base_uri": "https://localhost:8080/"
        },
        "id": "wBhDmRp-Bnby",
        "outputId": "bfba5769-c226-4207-87c8-26a2364ccf8f"
      },
      "source": [
        "print(audio_signal.shape)\n",
        "print(df.freq.shape)"
      ],
      "execution_count": null,
      "outputs": [
        {
          "output_type": "stream",
          "text": [
            "(300, 330464)\n",
            "(900,)\n"
          ],
          "name": "stdout"
        }
      ]
    },
    {
      "cell_type": "code",
      "metadata": {
        "colab": {
          "base_uri": "https://localhost:8080/"
        },
        "id": "mTlHOL65k6yh",
        "outputId": "4cbddf3f-39d6-459c-9c38-4eef995d8d83"
      },
      "source": [
        "audio_signal= audio_signal.fillna(0)\n",
        "print(audio_signal[900])"
      ],
      "execution_count": null,
      "outputs": [
        {
          "output_type": "stream",
          "text": [
            "0     -129.0\n",
            "1      -46.0\n",
            "2      286.0\n",
            "3      271.0\n",
            "4     -368.0\n",
            "       ...  \n",
            "295    -86.0\n",
            "296     92.0\n",
            "297    121.0\n",
            "298    -24.0\n",
            "299     23.0\n",
            "Name: 900, Length: 900, dtype: float64\n"
          ],
          "name": "stdout"
        }
      ]
    },
    {
      "cell_type": "code",
      "metadata": {
        "colab": {
          "base_uri": "https://localhost:8080/"
        },
        "id": "zVsy3jyKqS0-",
        "outputId": "262d6892-9e1c-4c36-ec6e-7d973593c987"
      },
      "source": [
        "audio_signals = audio_signal.values\n",
        "print(audio_signals)"
      ],
      "execution_count": null,
      "outputs": [
        {
          "output_type": "stream",
          "text": [
            "[[  30.   43.   52. ...    0.    0.    0.]\n",
            " [   0.    0.    0. ...    0.    0.    0.]\n",
            " [-232. -200. -207. ...    0.    0.    0.]\n",
            " ...\n",
            " [ 105.   95.   88. ...    0.    0.    0.]\n",
            " [ 210.  206.  208. ...    0.    0.    0.]\n",
            " [ 130.  133.  129. ...    0.    0.    0.]]\n"
          ],
          "name": "stdout"
        }
      ]
    },
    {
      "cell_type": "code",
      "metadata": {
        "id": "2F7YAL9lmBQc"
      },
      "source": [
        "\n",
        "#plot_listen_audio(df.data, df.freq)\n",
        "\n",
        "labels = df.label\n",
        "\n",
        "zero_without,melspec_df_without, energy_without = feature_extraction(audio_signals, df.freq)\n",
        "#print(melspec_df_without[0][1].size)\n",
        "# noise_data = noise(audio_signals, random=True)\n",
        "# zero_with, melspec_df_with, energy_with = feature_extraction(noise_data, df.freq)\n",
        "\n",
        "# stretch_data = stretch(audio_signals.flatten())\n",
        "# zero_stretch , melspec_df_stretch , energy_stretch = feature_extraction(audio_signals,df.freq)\n",
        "\n",
        "# zero_noise = zero_without + zero_with\n",
        "# melspec_df_noise = melspec_df_without + melspec_df_with \n",
        "# energy_noise = energy_without + energy_with \n",
        "\n",
        "# zero = zero_without + zero_with + zero_stretch\n",
        "# melspec_df = melspec_df_without + melspec_df_with + melspec_df_stretch\n",
        "# energy = energy_without + energy_with + energy_stretch \n",
        "# label = df.label\n",
        "\n",
        "# print(label)\n",
        "# label = label.append(label)\n",
        "# print(len(label))\n",
        "\n",
        "# label_300 = label\n",
        "# label_300 = label_300.append(df.label)\n",
        "# print(len(label_300))\n"
      ],
      "execution_count": null,
      "outputs": []
    },
    {
      "cell_type": "code",
      "metadata": {
        "id": "Pcb_RDzXkGxa"
      },
      "source": [
        "def plot_confusion_matrix(cm, classes,\n",
        "                        normalize=False,\n",
        "                        title='Confusion matrix',\n",
        "                        cmap=plt.cm.coolwarm_r):\n",
        "\n",
        "    plt.imshow(cm, interpolation='nearest', cmap=cmap)\n",
        "    plt.title(title)\n",
        "    plt.colorbar()\n",
        "    tick_marks = np.arange(len(classes))\n",
        "    plt.xticks(tick_marks, classes, rotation=45)\n",
        "    plt.yticks(tick_marks, classes)\n",
        "\n",
        "    if normalize:\n",
        "        cm = cm.astype('float') / cm.sum(axis=1)[:, np.newaxis]\n",
        "        print(\"Normalized confusion matrix\\n\")\n",
        "    else:\n",
        "        print('Confusion matrix, without normalization\\n')\n",
        "\n",
        "    print(cm,\"\\n\")\n",
        "\n",
        "    thresh = cm.max() / 2.\n",
        "    for i, j in itertools.product(range(cm.shape[0]), range(cm.shape[1])):\n",
        "        plt.text(j, i, cm[i, j],\n",
        "            horizontalalignment=\"center\",\n",
        "            color=\"white\" if cm[i, j] > thresh else \"black\")\n",
        "\n",
        "    plt.tight_layout()\n",
        "    plt.ylabel('True label')\n",
        "    plt.xlabel('Predicted label')"
      ],
      "execution_count": null,
      "outputs": []
    },
    {
      "cell_type": "markdown",
      "metadata": {
        "id": "fZAagD0FflGc"
      },
      "source": [
        "# CNN 2D"
      ]
    },
    {
      "cell_type": "code",
      "metadata": {
        "id": "7QYxYY0USjJP"
      },
      "source": [
        "x_train, x_test, y_train , y_test = train_test_split(melspec_df_without,\n",
        "                                                     df.label, \n",
        "                                                    test_size=0.3,\n",
        "                                                    random_state=42)\n",
        "x_train = np.array(x_train)\n",
        "y_train = np.array(y_train)\n",
        "y_test = np.array(y_test)\n",
        "x_test = np.array(x_test)\n",
        "\n",
        "x_train = x_train.reshape(-1,128,melspec_df_without[0][1].size,1)\n",
        "x_test = x_test.reshape(-1,128,melspec_df_without[0][1].size,1)\n",
        "\n",
        "x_train = x_train.astype('float32')\n",
        "x_test = x_test.astype('float32')\n",
        "\n",
        "x_train = x_train/255.\n",
        "x_test = x_test/255."
      ],
      "execution_count": null,
      "outputs": []
    },
    {
      "cell_type": "code",
      "metadata": {
        "colab": {
          "base_uri": "https://localhost:8080/"
        },
        "id": "hd9dQqazTHVz",
        "outputId": "688088cc-30b7-4122-91c9-2aaf174ed5a8"
      },
      "source": [
        "classes = np.unique(y_train)\n",
        "nClasses = len(classes)\n",
        "print('Total number of outputs : ', nClasses)\n",
        "print('Output classes : ', classes)\n",
        "\n",
        "lb = LabelEncoder()\n",
        "print('original label str :',y_train[5])\n",
        "y_train = lb.fit_transform(y_train)\n",
        "y_test = lb.fit_transform(y_test)\n",
        "\n",
        "  #change label from number to unique categorical \n",
        "train_Y_one_hot = to_categorical(y_train)\n",
        "test_Y_one_hot = to_categorical(y_test)\n",
        "\n",
        "  # Display the change for category label using one-hot encoding\n",
        "print('Original label:', y_train[5])\n",
        "print('After conversion to one-hot:', train_Y_one_hot[5])\n",
        "print(train_Y_one_hot.shape)\n"
      ],
      "execution_count": null,
      "outputs": [
        {
          "output_type": "stream",
          "text": [
            "Total number of outputs :  6\n",
            "Output classes :  [0 1 2 3 4 5]\n",
            "original label str : 3\n",
            "Original label: 3\n",
            "After conversion to one-hot: [0. 0. 0. 1. 0. 0.]\n",
            "(630, 6)\n"
          ],
          "name": "stdout"
        }
      ]
    },
    {
      "cell_type": "code",
      "metadata": {
        "id": "lyABx_lTTXdD"
      },
      "source": [
        "train_X, valid_X, train_label, valid_label = train_test_split(x_train, \n",
        "                                                            train_Y_one_hot,\n",
        "                                                           test_size=0.05,\n",
        "                                                           random_state=13)"
      ],
      "execution_count": null,
      "outputs": []
    },
    {
      "cell_type": "code",
      "metadata": {
        "id": "ILfdbnJZTlaB"
      },
      "source": [
        "train_X=train_X.reshape(-1,128,melspec_df_without[0][1].size,1)\n",
        "valid_X = valid_X.reshape(-1,128,melspec_df_without[0][1].size,1)"
      ],
      "execution_count": null,
      "outputs": []
    },
    {
      "cell_type": "code",
      "metadata": {
        "colab": {
          "base_uri": "https://localhost:8080/"
        },
        "id": "o5HtJH29ToHs",
        "outputId": "db0e99e7-ecf2-430c-ed1d-ec66c4e7d7cc"
      },
      "source": [
        "train_X.shape,valid_X.shape"
      ],
      "execution_count": null,
      "outputs": [
        {
          "output_type": "execute_result",
          "data": {
            "text/plain": [
              "((598, 128, 153, 1), (32, 128, 153, 1))"
            ]
          },
          "metadata": {
            "tags": []
          },
          "execution_count": 191
        }
      ]
    },
    {
      "cell_type": "code",
      "metadata": {
        "id": "HFYPQAfET4wi"
      },
      "source": [
        "import keras\n",
        "from keras.models import Sequential,Input,Model\n",
        "from keras.layers import Dense, Dropout, Flatten\n",
        "from keras.layers import Conv2D, MaxPooling2D\n",
        "from keras.layers.normalization import BatchNormalization\n",
        "from keras.layers.advanced_activations import LeakyReLU"
      ],
      "execution_count": null,
      "outputs": []
    },
    {
      "cell_type": "code",
      "metadata": {
        "id": "WytiUNHzT7D6"
      },
      "source": [
        "batch_size = 8\n",
        "epochs = 20\n",
        "num_classes = 6"
      ],
      "execution_count": null,
      "outputs": []
    },
    {
      "cell_type": "code",
      "metadata": {
        "id": "4Ox6iG4gT9uY"
      },
      "source": [
        "fashion_model = Sequential()\n",
        "fashion_model.add(Conv2D(32, kernel_size=(3, 3),activation='linear',padding='same',input_shape=(128,153,1)))\n",
        "fashion_model.add(LeakyReLU(alpha=0.1))\n",
        "fashion_model.add(MaxPooling2D((2, 2),padding='same'))\n",
        "fashion_model.add(Dropout(0.25))\n",
        "fashion_model.add(Conv2D(64, (3, 3), activation='linear',padding='same'))\n",
        "fashion_model.add(LeakyReLU(alpha=0.1))\n",
        "fashion_model.add(MaxPooling2D(pool_size=(2, 2),padding='same'))\n",
        "fashion_model.add(Dropout(0.25))\n",
        "fashion_model.add(Conv2D(128, (3, 3), activation='linear',padding='same'))\n",
        "fashion_model.add(LeakyReLU(alpha=0.1))                  \n",
        "fashion_model.add(MaxPooling2D(pool_size=(2, 2),padding='same'))\n",
        "fashion_model.add(Dropout(0.4))\n",
        "fashion_model.add(Flatten())\n",
        "fashion_model.add(Dense(128, activation='linear'))\n",
        "fashion_model.add(LeakyReLU(alpha=0.1))           \n",
        "fashion_model.add(Dropout(0.3))\n",
        "fashion_model.add(Dense(num_classes, activation='softmax')) #change output to prob distribution"
      ],
      "execution_count": null,
      "outputs": []
    },
    {
      "cell_type": "code",
      "metadata": {
        "colab": {
          "base_uri": "https://localhost:8080/"
        },
        "id": "4wUvVPjoUHPJ",
        "outputId": "0697d08f-db29-474f-815a-dca7a07f5074"
      },
      "source": [
        "fashion_model.summary()\n"
      ],
      "execution_count": null,
      "outputs": [
        {
          "output_type": "stream",
          "text": [
            "Model: \"sequential_20\"\n",
            "_________________________________________________________________\n",
            "Layer (type)                 Output Shape              Param #   \n",
            "=================================================================\n",
            "conv2d_60 (Conv2D)           (None, 128, 153, 32)      320       \n",
            "_________________________________________________________________\n",
            "leaky_re_lu_80 (LeakyReLU)   (None, 128, 153, 32)      0         \n",
            "_________________________________________________________________\n",
            "max_pooling2d_60 (MaxPooling (None, 64, 77, 32)        0         \n",
            "_________________________________________________________________\n",
            "dropout_44 (Dropout)         (None, 64, 77, 32)        0         \n",
            "_________________________________________________________________\n",
            "conv2d_61 (Conv2D)           (None, 64, 77, 64)        18496     \n",
            "_________________________________________________________________\n",
            "leaky_re_lu_81 (LeakyReLU)   (None, 64, 77, 64)        0         \n",
            "_________________________________________________________________\n",
            "max_pooling2d_61 (MaxPooling (None, 32, 39, 64)        0         \n",
            "_________________________________________________________________\n",
            "dropout_45 (Dropout)         (None, 32, 39, 64)        0         \n",
            "_________________________________________________________________\n",
            "conv2d_62 (Conv2D)           (None, 32, 39, 128)       73856     \n",
            "_________________________________________________________________\n",
            "leaky_re_lu_82 (LeakyReLU)   (None, 32, 39, 128)       0         \n",
            "_________________________________________________________________\n",
            "max_pooling2d_62 (MaxPooling (None, 16, 20, 128)       0         \n",
            "_________________________________________________________________\n",
            "dropout_46 (Dropout)         (None, 16, 20, 128)       0         \n",
            "_________________________________________________________________\n",
            "flatten_20 (Flatten)         (None, 40960)             0         \n",
            "_________________________________________________________________\n",
            "dense_40 (Dense)             (None, 128)               5243008   \n",
            "_________________________________________________________________\n",
            "leaky_re_lu_83 (LeakyReLU)   (None, 128)               0         \n",
            "_________________________________________________________________\n",
            "dropout_47 (Dropout)         (None, 128)               0         \n",
            "_________________________________________________________________\n",
            "dense_41 (Dense)             (None, 6)                 774       \n",
            "=================================================================\n",
            "Total params: 5,336,454\n",
            "Trainable params: 5,336,454\n",
            "Non-trainable params: 0\n",
            "_________________________________________________________________\n"
          ],
          "name": "stdout"
        }
      ]
    },
    {
      "cell_type": "code",
      "metadata": {
        "id": "6P8n8vXIV2hu"
      },
      "source": [
        "fashion_model.compile(loss=keras.losses.categorical_crossentropy, optimizer=keras.optimizers.Adam(),metrics=['accuracy'])\n"
      ],
      "execution_count": null,
      "outputs": []
    },
    {
      "cell_type": "code",
      "metadata": {
        "colab": {
          "base_uri": "https://localhost:8080/"
        },
        "id": "0YZGUatTUJ_o",
        "outputId": "9be0e6d9-bf5b-4fed-8a4d-9273543e7d9a"
      },
      "source": [
        "fashion_train = fashion_model.fit(train_X, train_label, batch_size=batch_size,epochs=epochs,verbose=1,validation_data=(valid_X, valid_label))\n"
      ],
      "execution_count": null,
      "outputs": [
        {
          "output_type": "stream",
          "text": [
            "Epoch 1/20\n",
            "75/75 [==============================] - 2s 23ms/step - loss: 27903.3223 - accuracy: 0.5552 - val_loss: 200059.5625 - val_accuracy: 0.3438\n",
            "Epoch 2/20\n",
            "75/75 [==============================] - 2s 22ms/step - loss: 30283.9121 - accuracy: 0.5201 - val_loss: 191383.7812 - val_accuracy: 0.3438\n",
            "Epoch 3/20\n",
            "75/75 [==============================] - 2s 22ms/step - loss: 49686.9023 - accuracy: 0.5084 - val_loss: 223162.3750 - val_accuracy: 0.2188\n",
            "Epoch 4/20\n",
            "75/75 [==============================] - 2s 21ms/step - loss: 34664.9609 - accuracy: 0.5117 - val_loss: 201105.0000 - val_accuracy: 0.3125\n",
            "Epoch 5/20\n",
            "75/75 [==============================] - 2s 21ms/step - loss: 25169.4238 - accuracy: 0.5418 - val_loss: 123944.3281 - val_accuracy: 0.3438\n",
            "Epoch 6/20\n",
            "75/75 [==============================] - 2s 21ms/step - loss: 16513.7539 - accuracy: 0.5753 - val_loss: 151131.1250 - val_accuracy: 0.3750\n",
            "Epoch 7/20\n",
            "75/75 [==============================] - 2s 22ms/step - loss: 14788.7725 - accuracy: 0.6171 - val_loss: 102413.0312 - val_accuracy: 0.4062\n",
            "Epoch 8/20\n",
            "75/75 [==============================] - 2s 21ms/step - loss: 8544.1104 - accuracy: 0.6054 - val_loss: 97749.6406 - val_accuracy: 0.3125\n",
            "Epoch 9/20\n",
            "75/75 [==============================] - 2s 22ms/step - loss: 12038.9766 - accuracy: 0.6020 - val_loss: 116691.7500 - val_accuracy: 0.4062\n",
            "Epoch 10/20\n",
            "75/75 [==============================] - 2s 22ms/step - loss: 10724.1670 - accuracy: 0.6154 - val_loss: 119259.9766 - val_accuracy: 0.3750\n",
            "Epoch 11/20\n",
            "75/75 [==============================] - 2s 21ms/step - loss: 9359.3271 - accuracy: 0.5936 - val_loss: 100054.6719 - val_accuracy: 0.3438\n",
            "Epoch 12/20\n",
            "75/75 [==============================] - 2s 21ms/step - loss: 5381.0190 - accuracy: 0.6338 - val_loss: 99923.5781 - val_accuracy: 0.4062\n",
            "Epoch 13/20\n",
            "75/75 [==============================] - 2s 22ms/step - loss: 10588.7568 - accuracy: 0.5920 - val_loss: 108830.5156 - val_accuracy: 0.3438\n",
            "Epoch 14/20\n",
            "75/75 [==============================] - 2s 21ms/step - loss: 7092.2075 - accuracy: 0.6187 - val_loss: 93301.8125 - val_accuracy: 0.5000\n",
            "Epoch 15/20\n",
            "75/75 [==============================] - 2s 21ms/step - loss: 5702.4888 - accuracy: 0.6789 - val_loss: 103327.1719 - val_accuracy: 0.3750\n",
            "Epoch 16/20\n",
            "75/75 [==============================] - 2s 21ms/step - loss: 8516.1533 - accuracy: 0.6421 - val_loss: 130639.1875 - val_accuracy: 0.4375\n",
            "Epoch 17/20\n",
            "75/75 [==============================] - 2s 22ms/step - loss: 10399.4365 - accuracy: 0.6087 - val_loss: 105951.8750 - val_accuracy: 0.4062\n",
            "Epoch 18/20\n",
            "75/75 [==============================] - 2s 22ms/step - loss: 14505.6826 - accuracy: 0.6120 - val_loss: 147238.5000 - val_accuracy: 0.3438\n",
            "Epoch 19/20\n",
            "75/75 [==============================] - 2s 22ms/step - loss: 10113.7061 - accuracy: 0.6037 - val_loss: 140122.8438 - val_accuracy: 0.5000\n",
            "Epoch 20/20\n",
            "75/75 [==============================] - 2s 22ms/step - loss: 7290.9810 - accuracy: 0.6154 - val_loss: 127961.1172 - val_accuracy: 0.4062\n"
          ],
          "name": "stdout"
        }
      ]
    },
    {
      "cell_type": "code",
      "metadata": {
        "colab": {
          "base_uri": "https://localhost:8080/"
        },
        "id": "i-NAHms8WWXx",
        "outputId": "c27e57bb-65ff-43ec-f658-2cadb70a3bf1"
      },
      "source": [
        "fashion_model.save(\"fashion_model_dropout.h5py\")\n"
      ],
      "execution_count": null,
      "outputs": [
        {
          "output_type": "stream",
          "text": [
            "INFO:tensorflow:Assets written to: fashion_model_dropout.h5py/assets\n"
          ],
          "name": "stdout"
        }
      ]
    },
    {
      "cell_type": "code",
      "metadata": {
        "colab": {
          "base_uri": "https://localhost:8080/"
        },
        "id": "uMhTHSp2UrQB",
        "outputId": "220fd740-afab-494c-9c84-31e08caa6a5b"
      },
      "source": [
        "test_eval = fashion_model.evaluate(x_test, test_Y_one_hot, verbose=0)\n",
        "print('Test loss:', test_eval[0])\n",
        "print('Test accuracy:', test_eval[1])"
      ],
      "execution_count": null,
      "outputs": [
        {
          "output_type": "stream",
          "text": [
            "Test loss: 65496.07421875\n",
            "Test accuracy: 0.41111111640930176\n"
          ],
          "name": "stdout"
        }
      ]
    },
    {
      "cell_type": "code",
      "metadata": {
        "colab": {
          "base_uri": "https://localhost:8080/",
          "height": 738
        },
        "id": "O6MWN35cjf1G",
        "outputId": "27ceaad3-a839-480c-8644-9a5e803e15fd"
      },
      "source": [
        "predicted_classes = fashion_model.predict(x_test)\n",
        "predicted_classes = np.argmax(np.round(predicted_classes),axis=1)\n",
        "correct = np.where(predicted_classes==y_test)[0]\n",
        "print (\"Found %d correct labels\" % len(correct))\n",
        "incorrect = np.where(predicted_classes!=y_test)[0]\n",
        "print (\"Found %d incorrect labels\" % len(incorrect))\n",
        "from sklearn.metrics import classification_report\n",
        "target_names = [\"Class {}\".format(i) for i in range(num_classes)]\n",
        "print(classification_report(y_test, predicted_classes, target_names=target_names))\n",
        "cm = confusion_matrix(y_true = y_test, y_pred = predicted_classes)\n",
        "plot_confusion_matrix(cm = cm, classes = classes, title = 'Confusion Matrix')"
      ],
      "execution_count": null,
      "outputs": [
        {
          "output_type": "stream",
          "text": [
            "Found 111 correct labels\n",
            "Found 159 incorrect labels\n",
            "              precision    recall  f1-score   support\n",
            "\n",
            "     Class 0       0.64      0.65      0.64        57\n",
            "     Class 1       0.34      0.33      0.34        48\n",
            "     Class 2       0.22      0.29      0.25        35\n",
            "     Class 3       0.30      0.29      0.29        42\n",
            "     Class 4       0.50      0.38      0.43        40\n",
            "     Class 5       0.42      0.44      0.43        48\n",
            "\n",
            "    accuracy                           0.41       270\n",
            "   macro avg       0.40      0.39      0.40       270\n",
            "weighted avg       0.42      0.41      0.41       270\n",
            "\n",
            "Confusion matrix, without normalization\n",
            "\n",
            "[[37  4  5  7  3  1]\n",
            " [ 5 16  7  4  4 12]\n",
            " [ 3  2 10 10  1  9]\n",
            " [ 8  5 10 12  3  4]\n",
            " [ 3  9  8  2 15  3]\n",
            " [ 2 11  5  5  4 21]] \n",
            "\n"
          ],
          "name": "stdout"
        },
        {
          "output_type": "display_data",
          "data": {
            "image/png": "[encoded data removed]",
            "text/plain": [
              "<Figure size 432x288 with 2 Axes>"
            ]
          },
          "metadata": {
            "tags": [],
            "needs_background": "light"
          }
        }
      ]
    },
    {
      "cell_type": "markdown",
      "metadata": {
        "id": "0jvXUHulgzLu"
      },
      "source": [
        "# CNN 1D"
      ]
    },
    {
      "cell_type": "code",
      "metadata": {
        "id": "hTc2C4Hcg0_U"
      },
      "source": [
        "x_train1D, x_test1D, y_train1D , y_test1D = train_test_split(zero_without,\n",
        "                                                     df.label, \n",
        "                                                    test_size=0.3,\n",
        "                                                    random_state=42)\n",
        "x_train1D = np.array(x_train1D)\n",
        "y_train1D = np.array(y_train1D)\n",
        "y_test1D = np.array(y_test1D)\n",
        "x_test1D = np.array(x_test1D)\n",
        "\n",
        "# x_train1D = x_train1D.reshape(-1,zero_without[0][1].size,1)\n",
        "# x_test1D = x_test1D.reshape(-1,zero_without[0][1].size,1)\n",
        "\n",
        "x_train1D = x_train1D.astype('float32')\n",
        "x_test1D = x_test1D.astype('float32')\n",
        "\n",
        "x_train1D = x_train1D/255.\n",
        "x_test1D = x_test1D/255."
      ],
      "execution_count": null,
      "outputs": []
    },
    {
      "cell_type": "code",
      "metadata": {
        "colab": {
          "base_uri": "https://localhost:8080/"
        },
        "id": "hNc8mGSmhSxu",
        "outputId": "8176f6e0-79a8-4702-d1e0-7b63028ed200"
      },
      "source": [
        "classes = np.unique(y_train1D)\n",
        "nClasses = len(classes)\n",
        "print('Total number of outputs : ', nClasses)\n",
        "print('Output classes : ', classes)\n",
        "\n",
        "lb = LabelEncoder()\n",
        "print('original label str :',y_train1D[5])\n",
        "y_train1D = lb.fit_transform(y_train1D)\n",
        "y_test1D = lb.fit_transform(y_test1D)\n",
        "\n",
        "  #change label from number to unique categorical \n",
        "train_Y_one_hot1D = to_categorical(y_train1D)\n",
        "test_Y_one_hot1D = to_categorical(y_test1D)\n",
        "\n",
        "  # Display the change for category label using one-hot encoding\n",
        "print('Original label:', y_train1D[5])\n",
        "print('After conversion to one-hot:', train_Y_one_hot1D[5])\n",
        "print(train_Y_one_hot1D.shape)\n"
      ],
      "execution_count": null,
      "outputs": [
        {
          "output_type": "stream",
          "text": [
            "Total number of outputs :  6\n",
            "Output classes :  ['angry' 'disgust' 'fear' 'happy' 'neutral' 'sad']\n",
            "original label str : happy\n",
            "Original label: 3\n",
            "After conversion to one-hot: [0. 0. 0. 1. 0. 0.]\n",
            "(630, 6)\n"
          ],
          "name": "stdout"
        }
      ]
    },
    {
      "cell_type": "code",
      "metadata": {
        "id": "2xd8sHRyhiip"
      },
      "source": [
        "train_X1D, valid_X1D, train_label1D, valid_label1D = train_test_split(x_train1D, \n",
        "                                                            train_Y_one_hot1D,\n",
        "                                                           test_size=0.05,\n",
        "                                                           random_state=13)"
      ],
      "execution_count": null,
      "outputs": []
    },
    {
      "cell_type": "code",
      "metadata": {
        "colab": {
          "base_uri": "https://localhost:8080/"
        },
        "id": "gXOpGix8hs0X",
        "outputId": "b0411271-159e-42e4-8a00-959b31e208b2"
      },
      "source": [
        "train_X1D.shape,valid_X1D.shape"
      ],
      "execution_count": null,
      "outputs": [
        {
          "output_type": "execute_result",
          "data": {
            "text/plain": [
              "((598, 157, 1), (32, 157, 1))"
            ]
          },
          "metadata": {
            "tags": []
          },
          "execution_count": 253
        }
      ]
    },
    {
      "cell_type": "code",
      "metadata": {
        "colab": {
          "base_uri": "https://localhost:8080/"
        },
        "id": "NoKh6Tspicsy",
        "outputId": "f62989aa-9b15-4ae6-b207-f9158bdc936e"
      },
      "source": [
        "model = Sequential()\n",
        "model.add(Conv1D(512, 1, activation='relu', input_shape=(157,1),padding='same'))\n",
        "model.add(MaxPooling1D((1)))\n",
        "model.add(Conv1D(128, 3, activation='relu'))\n",
        "model.add(MaxPooling1D((1)))\n",
        "model.add(Conv1D(256, 3, activation='relu'))\n",
        "model.add(MaxPooling1D((1)))\n",
        "model.add(Conv1D(512, 3, activation='relu'))\n",
        "model.add(MaxPooling1D((1)))\n",
        "model.add(Conv1D(1024, 3, activation='relu'))\n",
        "model.add(MaxPooling1D((1)))\n",
        "model.add(Flatten())\n",
        "model.add(Dense(512, activation='relu'))\n",
        "model.add(Dropout(0.3))\n",
        "model.add(Dense(256, activation='relu'))\n",
        "model.add(Dropout(0.3))\n",
        "model.add(Dense(128, activation='relu'))\n",
        "model.add(Dropout(0.3))\n",
        "model.add(Dense(6, activation='softmax'))\n",
        "model.compile(loss=keras.losses.categorical_crossentropy, optimizer=keras.optimizers.Adam(),metrics=['accuracy'])\n",
        "model.summary()"
      ],
      "execution_count": null,
      "outputs": [
        {
          "output_type": "stream",
          "text": [
            "Model: \"sequential_22\"\n",
            "_________________________________________________________________\n",
            "Layer (type)                 Output Shape              Param #   \n",
            "=================================================================\n",
            "conv1d_5 (Conv1D)            (None, 157, 512)          1024      \n",
            "_________________________________________________________________\n",
            "max_pooling1d_5 (MaxPooling1 (None, 157, 512)          0         \n",
            "_________________________________________________________________\n",
            "conv1d_6 (Conv1D)            (None, 155, 128)          196736    \n",
            "_________________________________________________________________\n",
            "max_pooling1d_6 (MaxPooling1 (None, 155, 128)          0         \n",
            "_________________________________________________________________\n",
            "conv1d_7 (Conv1D)            (None, 153, 256)          98560     \n",
            "_________________________________________________________________\n",
            "max_pooling1d_7 (MaxPooling1 (None, 153, 256)          0         \n",
            "_________________________________________________________________\n",
            "conv1d_8 (Conv1D)            (None, 151, 512)          393728    \n",
            "_________________________________________________________________\n",
            "max_pooling1d_8 (MaxPooling1 (None, 151, 512)          0         \n",
            "_________________________________________________________________\n",
            "conv1d_9 (Conv1D)            (None, 149, 1024)         1573888   \n",
            "_________________________________________________________________\n",
            "max_pooling1d_9 (MaxPooling1 (None, 149, 1024)         0         \n",
            "_________________________________________________________________\n",
            "flatten_22 (Flatten)         (None, 152576)            0         \n",
            "_________________________________________________________________\n",
            "dense_46 (Dense)             (None, 512)               78119424  \n",
            "_________________________________________________________________\n",
            "dropout_51 (Dropout)         (None, 512)               0         \n",
            "_________________________________________________________________\n",
            "dense_47 (Dense)             (None, 256)               131328    \n",
            "_________________________________________________________________\n",
            "dropout_52 (Dropout)         (None, 256)               0         \n",
            "_________________________________________________________________\n",
            "dense_48 (Dense)             (None, 128)               32896     \n",
            "_________________________________________________________________\n",
            "dropout_53 (Dropout)         (None, 128)               0         \n",
            "_________________________________________________________________\n",
            "dense_49 (Dense)             (None, 6)                 774       \n",
            "=================================================================\n",
            "Total params: 80,548,358\n",
            "Trainable params: 80,548,358\n",
            "Non-trainable params: 0\n",
            "_________________________________________________________________\n"
          ],
          "name": "stdout"
        }
      ]
    },
    {
      "cell_type": "code",
      "metadata": {
        "colab": {
          "base_uri": "https://localhost:8080/"
        },
        "id": "pxLPETvPiubF",
        "outputId": "fdd30624-fcdb-492d-beca-9699ba26de7b"
      },
      "source": [
        "history = model.fit(train_X1D, train_label1D, batch_size=batch_size,epochs=epochs,verbose=1,validation_data=(valid_X1D, valid_label1D))\n"
      ],
      "execution_count": null,
      "outputs": [
        {
          "output_type": "stream",
          "text": [
            "Epoch 1/20\n",
            "75/75 [==============================] - 7s 67ms/step - loss: 1.8029 - accuracy: 0.1340 - val_loss: 1.7919 - val_accuracy: 0.1250\n",
            "Epoch 2/20\n",
            "75/75 [==============================] - 4s 56ms/step - loss: 1.7896 - accuracy: 0.1825 - val_loss: 1.7959 - val_accuracy: 0.1250\n",
            "Epoch 3/20\n",
            "75/75 [==============================] - 4s 55ms/step - loss: 1.7946 - accuracy: 0.1715 - val_loss: 1.7991 - val_accuracy: 0.1250\n",
            "Epoch 4/20\n",
            "75/75 [==============================] - 4s 55ms/step - loss: 1.7981 - accuracy: 0.1499 - val_loss: 1.7987 - val_accuracy: 0.1250\n",
            "Epoch 5/20\n",
            "75/75 [==============================] - 4s 56ms/step - loss: 1.7866 - accuracy: 0.2187 - val_loss: 1.7994 - val_accuracy: 0.1250\n",
            "Epoch 6/20\n",
            "75/75 [==============================] - 4s 56ms/step - loss: 1.7868 - accuracy: 0.2097 - val_loss: 1.7996 - val_accuracy: 0.1250\n",
            "Epoch 7/20\n",
            "75/75 [==============================] - 4s 55ms/step - loss: 1.7922 - accuracy: 0.1712 - val_loss: 1.7984 - val_accuracy: 0.1250\n",
            "Epoch 8/20\n",
            "75/75 [==============================] - 4s 55ms/step - loss: 1.7842 - accuracy: 0.2132 - val_loss: 1.7985 - val_accuracy: 0.1250\n",
            "Epoch 9/20\n",
            "75/75 [==============================] - 4s 55ms/step - loss: 1.7846 - accuracy: 0.1968 - val_loss: 1.7999 - val_accuracy: 0.1250\n",
            "Epoch 10/20\n",
            "75/75 [==============================] - 4s 56ms/step - loss: 1.7868 - accuracy: 0.1967 - val_loss: 1.7984 - val_accuracy: 0.1250\n",
            "Epoch 11/20\n",
            "75/75 [==============================] - 4s 55ms/step - loss: 1.7850 - accuracy: 0.2122 - val_loss: 1.7978 - val_accuracy: 0.1250\n",
            "Epoch 12/20\n",
            "75/75 [==============================] - 4s 55ms/step - loss: 1.7879 - accuracy: 0.2034 - val_loss: 1.7978 - val_accuracy: 0.1250\n",
            "Epoch 13/20\n",
            "75/75 [==============================] - 4s 55ms/step - loss: 1.7923 - accuracy: 0.1744 - val_loss: 1.7982 - val_accuracy: 0.1250\n",
            "Epoch 14/20\n",
            "75/75 [==============================] - 4s 55ms/step - loss: 1.7903 - accuracy: 0.1706 - val_loss: 1.7994 - val_accuracy: 0.1250\n",
            "Epoch 15/20\n",
            "75/75 [==============================] - 4s 56ms/step - loss: 1.7901 - accuracy: 0.1776 - val_loss: 1.7998 - val_accuracy: 0.1250\n",
            "Epoch 16/20\n",
            "75/75 [==============================] - 4s 55ms/step - loss: 1.7875 - accuracy: 0.2003 - val_loss: 1.7996 - val_accuracy: 0.1250\n",
            "Epoch 17/20\n",
            "75/75 [==============================] - 4s 55ms/step - loss: 1.7856 - accuracy: 0.2176 - val_loss: 1.7993 - val_accuracy: 0.1250\n",
            "Epoch 18/20\n",
            "75/75 [==============================] - 4s 56ms/step - loss: 1.7887 - accuracy: 0.1812 - val_loss: 1.7986 - val_accuracy: 0.1250\n",
            "Epoch 19/20\n",
            "75/75 [==============================] - 4s 56ms/step - loss: 1.7885 - accuracy: 0.1829 - val_loss: 1.7992 - val_accuracy: 0.1250\n",
            "Epoch 20/20\n",
            "75/75 [==============================] - 4s 56ms/step - loss: 1.7917 - accuracy: 0.1831 - val_loss: 1.7994 - val_accuracy: 0.1250\n"
          ],
          "name": "stdout"
        }
      ]
    },
    {
      "cell_type": "code",
      "metadata": {
        "colab": {
          "base_uri": "https://localhost:8080/"
        },
        "id": "1W72w2NdjLLf",
        "outputId": "a9cadc2b-46cd-43b6-e2e5-4437988a60d1"
      },
      "source": [
        "test_eval1D = model.evaluate(x_test1D, test_Y_one_hot1D, verbose=0)\n",
        "print('Test loss:', test_eval1D[0])\n",
        "print('Test accuracy:', test_eval1D[1])"
      ],
      "execution_count": null,
      "outputs": [
        {
          "output_type": "stream",
          "text": [
            "Test loss: 1.8007744550704956\n",
            "Test accuracy: 0.12962962687015533\n"
          ],
          "name": "stdout"
        }
      ]
    },
    {
      "cell_type": "markdown",
      "metadata": {
        "id": "KAh4mrYYuTh0"
      },
      "source": [
        "# Data splitting"
      ]
    },
    {
      "cell_type": "code",
      "metadata": {
        "id": "W2vnjUXjvh2m"
      },
      "source": [
        "def split(data_want_to_split,label):\n",
        "  x_train, x_test, y_train , y_test = train_test_split(data_want_to_split,\n",
        "                                                     label, \n",
        "                                                    test_size=0.3,\n",
        "                                                    random_state=42)\n",
        "  x_train = np.array(x_train)\n",
        "  y_train = np.array(y_train)\n",
        "  y_test = np.array(y_test)\n",
        "  x_test = np.array(x_test)\n",
        "  return x_train,y_train,x_test,y_test"
      ],
      "execution_count": null,
      "outputs": []
    },
    {
      "cell_type": "code",
      "metadata": {
        "id": "K-YpWDGuHJq7"
      },
      "source": [
        "def split_train_data(train,label):\n",
        "  train_X, valid_X, train_label, valid_label = train_test_split(train, \n",
        "                                                            label,\n",
        "                                                           test_size=0.05,\n",
        "                                                           random_state=13)\n",
        "  return  train_X, valid_X, train_label, valid_label"
      ],
      "execution_count": null,
      "outputs": []
    },
    {
      "cell_type": "markdown",
      "metadata": {
        "id": "yL8d34CTuZsa"
      },
      "source": [
        "# Reshaping"
      ]
    },
    {
      "cell_type": "code",
      "metadata": {
        "id": "EZl8lXtmxgde"
      },
      "source": [
        "def reshape_data(x_train,x_test):\n",
        "  #before you feed it into the network you need to convert its type to float32\n",
        "  x_train = x_train.astype('float32')\n",
        "  x_test = x_test.astype('float32')\n",
        "\n",
        "  x_train = x_train/255.\n",
        "  x_test = x_test/255.\n",
        "  return x_train,x_test"
      ],
      "execution_count": null,
      "outputs": []
    },
    {
      "cell_type": "markdown",
      "metadata": {
        "id": "6vzATmKsuqpa"
      },
      "source": [
        "# Data prepare"
      ]
    },
    {
      "cell_type": "code",
      "metadata": {
        "id": "eBjz0CvVEl-5"
      },
      "source": [
        "#Now you need to convert the class labels into a one-hot encoding vector.\n",
        "def label_adjust (y_train,y_test):\n",
        "#change label from str to number\n",
        "  lb = LabelEncoder()\n",
        "  print('original label str :',y_train[5])\n",
        "  y_train = lb.fit_transform(y_train)\n",
        "  y_test = lb.fit_transform(y_test)\n",
        "\n",
        "  #change label from number to unique categorical \n",
        "  train_Y_one_hot = to_categorical(y_train)\n",
        "  test_Y_one_hot = to_categorical(y_test)\n",
        "\n",
        "  # Display the change for category label using one-hot encoding\n",
        "  print('Original label:', y_train[5])\n",
        "  print('After conversion to one-hot:', train_Y_one_hot[5])\n",
        "  print(train_Y_one_hot.shape)\n",
        "  return train_Y_one_hot,test_Y_one_hot,y_train,y_test"
      ],
      "execution_count": null,
      "outputs": []
    },
    {
      "cell_type": "code",
      "metadata": {
        "id": "51NAtOVZh1EL"
      },
      "source": [
        "def prepare_data(data,label,flag):\n",
        "  x_train , y_train,x_test,y_test = split(data,label)\n",
        "  #As a first step, convert each 128 x 97 image of the train and test set \n",
        "  #into a matrix of size 128 x 97 x 1 which is fed into the network.\n",
        "\n",
        "  if (flag == 2):\n",
        "    x_train = x_train.reshape(-1,128,melspec_df_without[0][1].size,1)\n",
        "    x_test = x_test.reshape(-1,128,melspec_df_without[0][1].size,1)\n",
        "\n",
        "  x_train,x_test = reshape_data(x_train,x_test)\n",
        "  \n",
        "  classes = np.unique(y_train)\n",
        "  nClasses = len(classes)\n",
        "  print('Total number of outputs : ', nClasses)\n",
        "  print('Output classes : ', classes)\n",
        "  train_Y_one_hot,test_Y_one_hot,y_train,y_test = label_adjust(y_train,y_test)\n",
        " \n",
        "  train_X, valid_X, train_label, valid_label = split_train_data(x_train,train_Y_one_hot)\n",
        "  if (flag == 2):\n",
        "    train_X=train_X.reshape(-1,128,melspec_df_without[0][1].size,1)\n",
        "    valid_X = valid_X.reshape(-1,128,melspec_df_without[0][1].size,1)\n",
        "\n",
        "  return train_X,train_label,valid_X,valid_label,x_test,test_Y_one_hot,y_test,classes"
      ],
      "execution_count": null,
      "outputs": []
    },
    {
      "cell_type": "markdown",
      "metadata": {
        "id": "B9vSWxEa0Uca"
      },
      "source": [
        "#Accuracy"
      ]
    },
    {
      "cell_type": "code",
      "metadata": {
        "id": "AkNUIkX4qoL9"
      },
      "source": [
        "def accuracy_check(model,test_x, test_lbl_hot,test_lbl,verbose):\n",
        "  test_eval = model.evaluate(test_x, test_lbl_hot, verbose=verbose)\n",
        "  print('Test Loss:', test_eval[0])\n",
        "  print('Test Accuracy:', test_eval[1])\n",
        "  print('-------------------------------------------------------')\n",
        "  print('Labels Check')\n",
        "  print('-------------------------------------------------------')\n",
        "\n",
        "  predicted_classes = model.predict(test_x)\n",
        "  predicted_classes = np.argmax(np.round(predicted_classes),axis=1)\n",
        "  predicted_classes.shape, test_lbl.shape\n",
        "  print(\"\\npredicted Labels : \\n\\n\", predicted_classes)\n",
        "  print(\"\\ntesting Labels : \\n\\n\",test_lbl)\n",
        "  return predicted_classes"
      ],
      "execution_count": null,
      "outputs": []
    },
    {
      "cell_type": "markdown",
      "metadata": {
        "id": "PdPNTvHW0b7I"
      },
      "source": [
        "#F-Score"
      ]
    },
    {
      "cell_type": "code",
      "metadata": {
        "id": "zhV31zi4xjWi"
      },
      "source": [
        "def f_score(predicted_classes,test):\n",
        "  target_names = [\"Class {}\".format(i) for i in range(len(classes))]\n",
        "  print(classification_report(test, \n",
        "                              predicted_classes, \n",
        "                              target_names=target_names))"
      ],
      "execution_count": null,
      "outputs": []
    },
    {
      "cell_type": "markdown",
      "metadata": {
        "id": "ItHeoVj30PS5"
      },
      "source": [
        "# Fit Model"
      ]
    },
    {
      "cell_type": "code",
      "metadata": {
        "id": "WuufwF6pmU8A"
      },
      "source": [
        "def fit_model(model,x_train, y_train, x_val , y_val):\n",
        "  history = model.fit(x_train, y_train, \n",
        "                                  batch_size=8,\n",
        "                                  epochs=40,verbose=1,\n",
        "                                  validation_data=(x_val , y_val))"
      ],
      "execution_count": null,
      "outputs": []
    },
    {
      "cell_type": "markdown",
      "metadata": {
        "id": "23sJ9Njap6mH"
      },
      "source": [
        "# **signal with noise MelSpec**"
      ]
    },
    {
      "cell_type": "code",
      "metadata": {
        "id": "9aRnUScAo1s6"
      },
      "source": [
        "train_X,train_label,valid_X,valid_label,x_test,test_Y_one_hot,y_test,classes  = prepare_data(melspec_df_noise,label , 2)\n"
      ],
      "execution_count": null,
      "outputs": []
    },
    {
      "cell_type": "code",
      "metadata": {
        "id": "i8K77-LOqGRc"
      },
      "source": [
        "model_2D_noise = CNN2D_model_1(train_X)"
      ],
      "execution_count": null,
      "outputs": []
    },
    {
      "cell_type": "code",
      "metadata": {
        "id": "xKdQWNH_qLRP"
      },
      "source": [
        "fit_model(model_2D_noise,train_X, train_label,valid_X, valid_label)"
      ],
      "execution_count": null,
      "outputs": []
    },
    {
      "cell_type": "code",
      "metadata": {
        "id": "o01CaovMqx-V"
      },
      "source": [
        "all_acc(model_2D_noise,x_test,test_Y_one_hot,y_test,1)"
      ],
      "execution_count": null,
      "outputs": []
    },
    {
      "cell_type": "markdown",
      "metadata": {
        "id": "m9lp-lQQq6_B"
      },
      "source": [
        "# **stretched signal with noise MelSpec**"
      ]
    },
    {
      "cell_type": "code",
      "metadata": {
        "id": "jwBj8cOIrAz8"
      },
      "source": [
        "train_X,train_label,valid_X,valid_label,x_test,test_Y_one_hot,y_test,classes = prepare_data(melspec_df,label_300, 2)\n"
      ],
      "execution_count": null,
      "outputs": []
    },
    {
      "cell_type": "code",
      "metadata": {
        "id": "ModBZgZTrILK"
      },
      "source": [
        "model_2D_all = CNN2D_model_1 (train_X)"
      ],
      "execution_count": null,
      "outputs": []
    },
    {
      "cell_type": "code",
      "metadata": {
        "id": "lpR8Hk8crMq6"
      },
      "source": [
        "fit_model(model_2D_all,train_X, train_label,valid_X, valid_label)\n"
      ],
      "execution_count": null,
      "outputs": []
    },
    {
      "cell_type": "code",
      "metadata": {
        "id": "zJdJzLKFrryv"
      },
      "source": [
        "all_acc(model_2D_noise,x_test,test_Y_one_hot,y_test,1)"
      ],
      "execution_count": null,
      "outputs": []
    },
    {
      "cell_type": "markdown",
      "metadata": {
        "id": "w638zKtPxMbh"
      },
      "source": [
        "# **CNN 1D Model-1**"
      ]
    },
    {
      "cell_type": "code",
      "metadata": {
        "id": "wM2Nv6QSR4HD"
      },
      "source": [
        "def CNN1D_model_1 (x_train):\n",
        "  model = Sequential()\n",
        "  model.add(Conv1D(512, 1, activation='relu', input_shape=(x_train.shape[1],1),padding='same'))\n",
        "  model.add(MaxPooling1D((1)))\n",
        "  model.add(Conv1D(128, 3, activation='relu'))\n",
        "  model.add(MaxPooling1D((1)))\n",
        "  model.add(Conv1D(256, 3, activation='relu'))\n",
        "  model.add(MaxPooling1D((1)))\n",
        "  model.add(Conv1D(512, 3, activation='relu'))\n",
        "  model.add(MaxPooling1D((1)))\n",
        "  model.add(Conv1D(1024, 3, activation='relu'))\n",
        "  model.add(MaxPooling1D((1)))\n",
        "  model.add(Flatten())\n",
        "  model.add(Dense(512, activation='relu'))\n",
        "  model.add(Dropout(0.3))\n",
        "  model.add(Dense(256, activation='relu'))\n",
        "  model.add(Dropout(0.3))\n",
        "  model.add(Dense(128, activation='relu'))\n",
        "  model.add(Dropout(0.3))\n",
        "  model.add(Dense(6, activation='softmax'))\n",
        "  model.compile(loss=keras.losses.categorical_crossentropy, optimizer=keras.optimizers.Adam(),metrics=['accuracy'])\n",
        "  model.summary()\n",
        "  return model"
      ],
      "execution_count": null,
      "outputs": []
    },
    {
      "cell_type": "code",
      "metadata": {
        "id": "8E1oJ8UfSEyI"
      },
      "source": [
        "def fit_model_1D_1 (model,x_train, y_train, x_val , y_val):\n",
        "  history = model.fit(x_train, y_train, \n",
        "                                  batch_size=8,\n",
        "                                  epochs=20,verbose=1,\n",
        "                                  validation_data=(x_val, y_val))"
      ],
      "execution_count": null,
      "outputs": []
    },
    {
      "cell_type": "code",
      "metadata": {
        "id": "koqX8p5B0jIt"
      },
      "source": [
        "def all_acc_1D(model):\n",
        "  num_classes=6\n",
        "  test_eval1D = model.evaluate(x_test1D, test_Y_one_hot1D, verbose=0)\n",
        "  print('Test loss:', test_eval1D[0])\n",
        "  print('Test accuracy:', test_eval1D[1])\n",
        "  predicted_classes1D = model.predict(x_test1D)\n",
        "  predicted_classes1D = np.argmax(np.round(predicted_classes1D),axis=1)\n",
        "  predicted_classes1D.shape, y_test1D.shape\n",
        "  correct1D = np.where(predicted_classes1D==y_test1D)[0]\n",
        "\n",
        "  incorrect1D = np.where(predicted_classes1D!=y_test1D)[0]\n",
        "  print (\"Found %d incorrect labels\" % len(incorrect1D))\n",
        "  target_names1D = [\"Class {}\".format(i) for i in range(num_classes)]\n",
        "  print(classification_report(y_test1D, predicted_classes1D, target_names=target_names1D))\n",
        "  cm1D = confusion_matrix(y_true=y_test1D, y_pred=predicted_classes1D)\n",
        "  plot_confusion_matrix(cm=cm1D, classes=classes, title='Confusion Matrix')"
      ],
      "execution_count": null,
      "outputs": []
    },
    {
      "cell_type": "markdown",
      "metadata": {
        "id": "Aykp4onMduOh"
      },
      "source": [
        "# Zero Crossing Rate pure Model1\n"
      ]
    },
    {
      "cell_type": "code",
      "metadata": {
        "id": "8F6ioowIAVWG",
        "colab": {
          "base_uri": "https://localhost:8080/"
        },
        "outputId": "8949228e-7c57-4239-cf5e-98d34ecbd3d2"
      },
      "source": [
        "train_X1D,train_label1D,valid_X1D,valid_label1D,x_test1D,test_Y_one_hot1D,y_test1D,classes  = prepare_data(zero_without,df.label, 1)\n",
        "model_zcr = CNN1D_model_1(train_X1D)\n",
        "fit_model_1D_1(model_zcr,train_X1D, train_label1D,valid_X1D, valid_label1D)"
      ],
      "execution_count": null,
      "outputs": [
        {
          "output_type": "stream",
          "text": [
            "Total number of outputs :  6\n",
            "Output classes :  ['angry' 'disgust' 'fear' 'happy' 'neutral' 'sad']\n",
            "original label str : happy\n",
            "Original label: 3\n",
            "After conversion to one-hot: [0. 0. 0. 1. 0. 0.]\n",
            "(630, 6)\n",
            "Model: \"sequential_21\"\n",
            "_________________________________________________________________\n",
            "Layer (type)                 Output Shape              Param #   \n",
            "=================================================================\n",
            "conv1d (Conv1D)              (None, 157, 512)          1024      \n",
            "_________________________________________________________________\n",
            "max_pooling1d (MaxPooling1D) (None, 157, 512)          0         \n",
            "_________________________________________________________________\n",
            "conv1d_1 (Conv1D)            (None, 155, 128)          196736    \n",
            "_________________________________________________________________\n",
            "max_pooling1d_1 (MaxPooling1 (None, 155, 128)          0         \n",
            "_________________________________________________________________\n",
            "conv1d_2 (Conv1D)            (None, 153, 256)          98560     \n",
            "_________________________________________________________________\n",
            "max_pooling1d_2 (MaxPooling1 (None, 153, 256)          0         \n",
            "_________________________________________________________________\n",
            "conv1d_3 (Conv1D)            (None, 151, 512)          393728    \n",
            "_________________________________________________________________\n",
            "max_pooling1d_3 (MaxPooling1 (None, 151, 512)          0         \n",
            "_________________________________________________________________\n",
            "conv1d_4 (Conv1D)            (None, 149, 1024)         1573888   \n",
            "_________________________________________________________________\n",
            "max_pooling1d_4 (MaxPooling1 (None, 149, 1024)         0         \n",
            "_________________________________________________________________\n",
            "flatten_21 (Flatten)         (None, 152576)            0         \n",
            "_________________________________________________________________\n",
            "dense_42 (Dense)             (None, 512)               78119424  \n",
            "_________________________________________________________________\n",
            "dropout_48 (Dropout)         (None, 512)               0         \n",
            "_________________________________________________________________\n",
            "dense_43 (Dense)             (None, 256)               131328    \n",
            "_________________________________________________________________\n",
            "dropout_49 (Dropout)         (None, 256)               0         \n",
            "_________________________________________________________________\n",
            "dense_44 (Dense)             (None, 128)               32896     \n",
            "_________________________________________________________________\n",
            "dropout_50 (Dropout)         (None, 128)               0         \n",
            "_________________________________________________________________\n",
            "dense_45 (Dense)             (None, 6)                 774       \n",
            "=================================================================\n",
            "Total params: 80,548,358\n",
            "Trainable params: 80,548,358\n",
            "Non-trainable params: 0\n",
            "_________________________________________________________________\n",
            "Epoch 1/20\n",
            "75/75 [==============================] - 8s 70ms/step - loss: 1.7985 - accuracy: 0.1750 - val_loss: 1.7954 - val_accuracy: 0.1250\n",
            "Epoch 2/20\n",
            "75/75 [==============================] - 4s 56ms/step - loss: 1.7915 - accuracy: 0.1914 - val_loss: 1.7958 - val_accuracy: 0.1250\n",
            "Epoch 3/20\n",
            "75/75 [==============================] - 4s 56ms/step - loss: 1.7910 - accuracy: 0.1725 - val_loss: 1.7957 - val_accuracy: 0.1250\n",
            "Epoch 4/20\n",
            "75/75 [==============================] - 4s 56ms/step - loss: 1.7884 - accuracy: 0.2093 - val_loss: 1.7982 - val_accuracy: 0.1250\n",
            "Epoch 5/20\n",
            "75/75 [==============================] - 4s 55ms/step - loss: 1.7892 - accuracy: 0.1876 - val_loss: 1.7980 - val_accuracy: 0.1250\n",
            "Epoch 6/20\n",
            "75/75 [==============================] - 4s 56ms/step - loss: 1.7894 - accuracy: 0.1752 - val_loss: 1.7989 - val_accuracy: 0.1250\n",
            "Epoch 7/20\n",
            "75/75 [==============================] - 4s 56ms/step - loss: 1.7852 - accuracy: 0.2010 - val_loss: 1.7983 - val_accuracy: 0.1250\n",
            "Epoch 8/20\n",
            "75/75 [==============================] - 4s 56ms/step - loss: 1.7865 - accuracy: 0.1923 - val_loss: 1.7979 - val_accuracy: 0.1250\n",
            "Epoch 9/20\n",
            "75/75 [==============================] - 4s 55ms/step - loss: 1.7879 - accuracy: 0.2004 - val_loss: 1.7983 - val_accuracy: 0.1250\n",
            "Epoch 10/20\n",
            "75/75 [==============================] - 4s 55ms/step - loss: 1.7871 - accuracy: 0.1982 - val_loss: 1.7992 - val_accuracy: 0.1250\n",
            "Epoch 11/20\n",
            "75/75 [==============================] - 4s 55ms/step - loss: 1.7921 - accuracy: 0.1832 - val_loss: 1.8001 - val_accuracy: 0.1250\n",
            "Epoch 12/20\n",
            "75/75 [==============================] - 4s 56ms/step - loss: 1.7931 - accuracy: 0.1868 - val_loss: 1.7990 - val_accuracy: 0.1250\n",
            "Epoch 13/20\n",
            "75/75 [==============================] - 4s 55ms/step - loss: 1.7870 - accuracy: 0.2078 - val_loss: 1.8002 - val_accuracy: 0.1250\n",
            "Epoch 14/20\n",
            "75/75 [==============================] - 4s 56ms/step - loss: 1.7854 - accuracy: 0.1944 - val_loss: 1.8002 - val_accuracy: 0.1250\n",
            "Epoch 15/20\n",
            "75/75 [==============================] - 4s 56ms/step - loss: 1.7942 - accuracy: 0.1863 - val_loss: 1.7998 - val_accuracy: 0.1250\n",
            "Epoch 16/20\n",
            "75/75 [==============================] - 4s 56ms/step - loss: 1.7831 - accuracy: 0.2016 - val_loss: 1.8021 - val_accuracy: 0.1250\n",
            "Epoch 17/20\n",
            "75/75 [==============================] - 4s 55ms/step - loss: 1.7870 - accuracy: 0.1801 - val_loss: 1.8020 - val_accuracy: 0.1250\n",
            "Epoch 18/20\n",
            "75/75 [==============================] - 4s 56ms/step - loss: 1.7858 - accuracy: 0.2228 - val_loss: 1.8000 - val_accuracy: 0.1250\n",
            "Epoch 19/20\n",
            "75/75 [==============================] - 4s 56ms/step - loss: 1.7904 - accuracy: 0.1740 - val_loss: 1.7998 - val_accuracy: 0.1250\n",
            "Epoch 20/20\n",
            "75/75 [==============================] - 4s 56ms/step - loss: 1.7859 - accuracy: 0.2064 - val_loss: 1.7992 - val_accuracy: 0.1250\n"
          ],
          "name": "stdout"
        }
      ]
    },
    {
      "cell_type": "code",
      "metadata": {
        "id": "mYzFTR6v0Nqh",
        "colab": {
          "base_uri": "https://localhost:8080/",
          "height": 1000
        },
        "outputId": "92de18d5-9cd7-4cbd-d911-175df2fffe06"
      },
      "source": [
        "# all_acc(model_zcr,x_test1D,test_Y_one_hot1D,y_test1D,0)\n",
        "pred_zcr = accuracy_check(model_zcr,x_test1D,test_Y_one_hot1D,y_test1D,verbose=0)\n",
        "f_score(pred_zcr,y_test1D)\n",
        "cm_zcr = confusion_matrix(y_true=y_test1D, y_pred=pred_zcr)\n",
        "plot_confusion_matrix(cm=cm_zcr, classes=classes, title='Confusion Matrix')"
      ],
      "execution_count": null,
      "outputs": [
        {
          "output_type": "stream",
          "text": [
            "Test Loss: 1.802146315574646\n",
            "Test Accuracy: 0.12962962687015533\n",
            "-------------------------------------------------------\n",
            "Labels Check\n",
            "-------------------------------------------------------\n",
            "\n",
            "predicted Labels : \n",
            "\n",
            " [0 0 0 0 0 0 0 0 0 0 0 0 0 0 0 0 0 0 0 0 0 0 0 0 0 0 0 0 0 0 0 0 0 0 0 0 0\n",
            " 0 0 0 0 0 0 0 0 0 0 0 0 0 0 0 0 0 0 0 0 0 0 0 0 0 0 0 0 0 0 0 0 0 0 0 0 0\n",
            " 0 0 0 0 0 0 0 0 0 0 0 0 0 0 0 0 0 0 0 0 0 0 0 0 0 0 0 0 0 0 0 0 0 0 0 0 0\n",
            " 0 0 0 0 0 0 0 0 0 0 0 0 0 0 0 0 0 0 0 0 0 0 0 0 0 0 0 0 0 0 0 0 0 0 0 0 0\n",
            " 0 0 0 0 0 0 0 0 0 0 0 0 0 0 0 0 0 0 0 0 0 0 0 0 0 0 0 0 0 0 0 0 0 0 0 0 0\n",
            " 0 0 0 0 0 0 0 0 0 0 0 0 0 0 0 0 0 0 0 0 0 0 0 0 0 0 0 0 0 0 0 0 0 0 0 0 0\n",
            " 0 0 0 0 0 0 0 0 0 0 0 0 0 0 0 0 0 0 0 0 0 0 0 0 0 0 0 0 0 0 0 0 0 0 0 0 0\n",
            " 0 0 0 0 0 0 0 0 0 0 0]\n",
            "\n",
            "testing Labels : \n",
            "\n",
            " [1 2 3 3 4 0 5 4 0 0 0 3 1 5 5 3 0 5 5 0 5 5 1 3 3 1 5 0 0 2 2 3 1 1 3 5 5\n",
            " 5 5 5 3 4 1 1 3 0 2 3 2 1 5 4 5 1 4 5 5 0 1 0 2 4 2 5 3 1 0 5 3 5 0 5 1 2\n",
            " 5 0 2 5 0 3 4 0 0 3 1 4 3 3 0 4 1 0 2 3 4 0 0 2 0 4 3 3 0 0 0 1 4 1 4 1 4\n",
            " 5 1 3 3 1 2 2 3 2 3 5 4 1 4 1 3 0 0 4 0 5 4 2 4 0 0 3 2 1 1 2 5 1 5 0 3 0\n",
            " 3 0 4 3 4 5 4 3 2 0 2 0 0 2 1 2 3 0 3 5 3 0 3 1 0 5 2 5 1 4 4 5 2 1 0 2 4\n",
            " 0 5 1 5 5 5 2 4 0 0 3 5 5 1 4 2 2 0 0 0 5 1 1 1 0 2 4 5 0 1 4 0 2 3 1 5 4\n",
            " 4 4 3 0 1 1 0 4 5 1 0 4 3 1 2 0 2 2 1 0 4 3 5 5 5 3 3 1 2 4 1 5 0 1 4 1 1\n",
            " 1 0 3 0 4 1 4 5 2 4 2]\n",
            "              precision    recall  f1-score   support\n",
            "\n",
            "     Class 0       0.21      1.00      0.35        57\n",
            "     Class 1       0.00      0.00      0.00        48\n",
            "     Class 2       0.00      0.00      0.00        35\n",
            "     Class 3       0.00      0.00      0.00        42\n",
            "     Class 4       0.00      0.00      0.00        40\n",
            "     Class 5       0.00      0.00      0.00        48\n",
            "\n",
            "    accuracy                           0.21       270\n",
            "   macro avg       0.04      0.17      0.06       270\n",
            "weighted avg       0.04      0.21      0.07       270\n",
            "\n"
          ],
          "name": "stdout"
        },
        {
          "output_type": "stream",
          "text": [
            "/usr/local/lib/python3.7/dist-packages/sklearn/metrics/_classification.py:1272: UndefinedMetricWarning: Precision and F-score are ill-defined and being set to 0.0 in labels with no predicted samples. Use `zero_division` parameter to control this behavior.\n",
            "  _warn_prf(average, modifier, msg_start, len(result))\n"
          ],
          "name": "stderr"
        },
        {
          "output_type": "stream",
          "text": [
            "Confusion matrix, without normalization\n",
            "\n",
            "[[57  0  0  0  0  0]\n",
            " [48  0  0  0  0  0]\n",
            " [35  0  0  0  0  0]\n",
            " [42  0  0  0  0  0]\n",
            " [40  0  0  0  0  0]\n",
            " [48  0  0  0  0  0]] \n",
            "\n"
          ],
          "name": "stdout"
        },
        {
          "output_type": "display_data",
          "data": {
            "image/png": "[encoded data removed]",
            "text/plain": [
              "<Figure size 432x288 with 2 Axes>"
            ]
          },
          "metadata": {
            "tags": [],
            "needs_background": "light"
          }
        }
      ]
    },
    {
      "cell_type": "markdown",
      "metadata": {
        "id": "Nnu8NG1JkxdP"
      },
      "source": [
        "# Energy model1"
      ]
    },
    {
      "cell_type": "code",
      "metadata": {
        "colab": {
          "base_uri": "https://localhost:8080/"
        },
        "id": "LIyoBUt3lCs_",
        "outputId": "c3a521c9-ec50-4918-e18e-1e96ebaad65a"
      },
      "source": [
        "train_X1D_all,train_label1D_all,valid_X1D_all,valid_label1D_all,x_test1D_all,test_Y_one_hot1D_all,y_test1D_all,classes  = prepare_data(energy_without,df.label, 1)\n",
        "model_energy_all = CNN1D_model_1(train_X1D_all)\n",
        "fit_model_1D_1(model_energy_all,train_X1D_all, train_label1D_all,valid_X1D_all, valid_label1D_all)"
      ],
      "execution_count": null,
      "outputs": [
        {
          "output_type": "stream",
          "text": [
            "Total number of outputs :  6\n",
            "Output classes :  ['angry' 'disgust' 'fear' 'happy' 'neutral' 'sad']\n",
            "original label str : happy\n",
            "Original label: 3\n",
            "After conversion to one-hot: [0. 0. 0. 1. 0. 0.]\n",
            "(630, 6)\n",
            "Model: \"sequential_23\"\n",
            "_________________________________________________________________\n",
            "Layer (type)                 Output Shape              Param #   \n",
            "=================================================================\n",
            "conv1d_10 (Conv1D)           (None, 153, 512)          1024      \n",
            "_________________________________________________________________\n",
            "max_pooling1d_10 (MaxPooling (None, 153, 512)          0         \n",
            "_________________________________________________________________\n",
            "conv1d_11 (Conv1D)           (None, 151, 128)          196736    \n",
            "_________________________________________________________________\n",
            "max_pooling1d_11 (MaxPooling (None, 151, 128)          0         \n",
            "_________________________________________________________________\n",
            "conv1d_12 (Conv1D)           (None, 149, 256)          98560     \n",
            "_________________________________________________________________\n",
            "max_pooling1d_12 (MaxPooling (None, 149, 256)          0         \n",
            "_________________________________________________________________\n",
            "conv1d_13 (Conv1D)           (None, 147, 512)          393728    \n",
            "_________________________________________________________________\n",
            "max_pooling1d_13 (MaxPooling (None, 147, 512)          0         \n",
            "_________________________________________________________________\n",
            "conv1d_14 (Conv1D)           (None, 145, 1024)         1573888   \n",
            "_________________________________________________________________\n",
            "max_pooling1d_14 (MaxPooling (None, 145, 1024)         0         \n",
            "_________________________________________________________________\n",
            "flatten_23 (Flatten)         (None, 148480)            0         \n",
            "_________________________________________________________________\n",
            "dense_50 (Dense)             (None, 512)               76022272  \n",
            "_________________________________________________________________\n",
            "dropout_54 (Dropout)         (None, 512)               0         \n",
            "_________________________________________________________________\n",
            "dense_51 (Dense)             (None, 256)               131328    \n",
            "_________________________________________________________________\n",
            "dropout_55 (Dropout)         (None, 256)               0         \n",
            "_________________________________________________________________\n",
            "dense_52 (Dense)             (None, 128)               32896     \n",
            "_________________________________________________________________\n",
            "dropout_56 (Dropout)         (None, 128)               0         \n",
            "_________________________________________________________________\n",
            "dense_53 (Dense)             (None, 6)                 774       \n",
            "=================================================================\n",
            "Total params: 78,451,206\n",
            "Trainable params: 78,451,206\n",
            "Non-trainable params: 0\n",
            "_________________________________________________________________\n",
            "Epoch 1/20\n",
            "75/75 [==============================] - 8s 69ms/step - loss: 1.7796 - accuracy: 0.1995 - val_loss: 1.5693 - val_accuracy: 0.3438\n",
            "Epoch 2/20\n",
            "75/75 [==============================] - 4s 55ms/step - loss: 1.6437 - accuracy: 0.2801 - val_loss: 1.6238 - val_accuracy: 0.2812\n",
            "Epoch 3/20\n",
            "75/75 [==============================] - 4s 55ms/step - loss: 1.5630 - accuracy: 0.3204 - val_loss: 1.5224 - val_accuracy: 0.4062\n",
            "Epoch 4/20\n",
            "75/75 [==============================] - 4s 56ms/step - loss: 1.5202 - accuracy: 0.3457 - val_loss: 1.5223 - val_accuracy: 0.4375\n",
            "Epoch 5/20\n",
            "75/75 [==============================] - 4s 56ms/step - loss: 1.4625 - accuracy: 0.3308 - val_loss: 1.5047 - val_accuracy: 0.2812\n",
            "Epoch 6/20\n",
            "75/75 [==============================] - 4s 55ms/step - loss: 1.4404 - accuracy: 0.3690 - val_loss: 1.5389 - val_accuracy: 0.2188\n",
            "Epoch 7/20\n",
            "75/75 [==============================] - 4s 55ms/step - loss: 1.4128 - accuracy: 0.3703 - val_loss: 1.5200 - val_accuracy: 0.3750\n",
            "Epoch 8/20\n",
            "75/75 [==============================] - 4s 55ms/step - loss: 1.3813 - accuracy: 0.4560 - val_loss: 1.5202 - val_accuracy: 0.2500\n",
            "Epoch 9/20\n",
            "75/75 [==============================] - 4s 56ms/step - loss: 1.4111 - accuracy: 0.4093 - val_loss: 1.4414 - val_accuracy: 0.4062\n",
            "Epoch 10/20\n",
            "75/75 [==============================] - 4s 55ms/step - loss: 1.3758 - accuracy: 0.3940 - val_loss: 1.5120 - val_accuracy: 0.4688\n",
            "Epoch 11/20\n",
            "75/75 [==============================] - 4s 55ms/step - loss: 1.3459 - accuracy: 0.4076 - val_loss: 1.6004 - val_accuracy: 0.3750\n",
            "Epoch 12/20\n",
            "75/75 [==============================] - 4s 55ms/step - loss: 1.3253 - accuracy: 0.4900 - val_loss: 1.4891 - val_accuracy: 0.4062\n",
            "Epoch 13/20\n",
            "75/75 [==============================] - 4s 55ms/step - loss: 1.3564 - accuracy: 0.4194 - val_loss: 1.4974 - val_accuracy: 0.4062\n",
            "Epoch 14/20\n",
            "75/75 [==============================] - 4s 56ms/step - loss: 1.2529 - accuracy: 0.5059 - val_loss: 1.4726 - val_accuracy: 0.3125\n",
            "Epoch 15/20\n",
            "75/75 [==============================] - 4s 56ms/step - loss: 1.1765 - accuracy: 0.5413 - val_loss: 1.7044 - val_accuracy: 0.4062\n",
            "Epoch 16/20\n",
            "75/75 [==============================] - 4s 55ms/step - loss: 1.1088 - accuracy: 0.5543 - val_loss: 1.6936 - val_accuracy: 0.3125\n",
            "Epoch 17/20\n",
            "75/75 [==============================] - 4s 55ms/step - loss: 0.9886 - accuracy: 0.6026 - val_loss: 1.6808 - val_accuracy: 0.4688\n",
            "Epoch 18/20\n",
            "75/75 [==============================] - 4s 56ms/step - loss: 1.0227 - accuracy: 0.5904 - val_loss: 1.9611 - val_accuracy: 0.4688\n",
            "Epoch 19/20\n",
            "75/75 [==============================] - 4s 55ms/step - loss: 0.9139 - accuracy: 0.6444 - val_loss: 2.3658 - val_accuracy: 0.4375\n",
            "Epoch 20/20\n",
            "75/75 [==============================] - 4s 56ms/step - loss: 0.9213 - accuracy: 0.6627 - val_loss: 1.5751 - val_accuracy: 0.2812\n"
          ],
          "name": "stdout"
        }
      ]
    },
    {
      "cell_type": "code",
      "metadata": {
        "colab": {
          "base_uri": "https://localhost:8080/",
          "height": 1000
        },
        "id": "wufHslxxleZn",
        "outputId": "8229542d-f989-4651-b15f-93f8cb6d53a8"
      },
      "source": [
        "# all_acc_1D(model_energy_all)\n",
        "pred_energy_all = accuracy_check(model_energy_all,x_test1D_all,\n",
        "                                 test_Y_one_hot1D_all,\n",
        "                                 y_test1D_all,verbose=0)\n",
        "f_score(pred_energy_all,y_test1D_all)\n",
        "cm_energy_all = confusion_matrix(y_true=y_test1D_all, y_pred=pred_energy_all)\n",
        "plot_confusion_matrix(cm=cm_energy_all, classes=classes, title='Confusion Matrix')"
      ],
      "execution_count": null,
      "outputs": [
        {
          "output_type": "stream",
          "text": [
            "Test Loss: 1.5050263404846191\n",
            "Test Accuracy: 0.31481480598449707\n",
            "-------------------------------------------------------\n",
            "Labels Check\n",
            "-------------------------------------------------------\n",
            "\n",
            "predicted Labels : \n",
            "\n",
            " [3 0 0 0 0 0 0 0 0 2 0 0 0 0 0 0 0 0 0 0 0 0 0 0 0 0 0 0 3 0 0 0 1 1 0 0 0\n",
            " 0 0 0 0 0 0 0 0 0 0 0 0 2 0 2 0 0 0 2 0 0 0 1 0 0 0 0 0 0 0 0 0 0 0 0 0 0\n",
            " 0 0 0 0 0 2 0 0 0 0 1 0 0 0 0 0 0 0 0 0 0 0 0 0 0 0 0 0 0 2 0 0 0 0 0 1 0\n",
            " 0 0 0 0 1 0 0 0 0 0 0 0 0 0 0 0 0 0 0 0 0 0 0 0 0 0 0 0 0 0 2 0 2 0 0 0 0\n",
            " 0 0 0 2 0 0 0 0 2 0 2 0 0 0 0 0 0 0 0 0 0 2 0 0 0 0 0 0 0 0 0 0 2 2 0 0 0\n",
            " 0 0 0 0 0 0 0 0 0 0 0 0 0 0 0 0 0 0 0 0 0 1 0 0 0 0 0 0 0 0 0 0 0 0 1 0 0\n",
            " 0 0 0 0 2 0 0 0 0 0 0 0 2 0 0 0 0 0 0 0 0 0 0 0 0 0 0 0 0 0 0 0 0 0 0 0 0\n",
            " 0 2 0 0 0 2 0 0 0 0 0]\n",
            "\n",
            "testing Labels : \n",
            "\n",
            " [1 2 3 3 4 0 5 4 0 0 0 3 1 5 5 3 0 5 5 0 5 5 1 3 3 1 5 0 0 2 2 3 1 1 3 5 5\n",
            " 5 5 5 3 4 1 1 3 0 2 3 2 1 5 4 5 1 4 5 5 0 1 0 2 4 2 5 3 1 0 5 3 5 0 5 1 2\n",
            " 5 0 2 5 0 3 4 0 0 3 1 4 3 3 0 4 1 0 2 3 4 0 0 2 0 4 3 3 0 0 0 1 4 1 4 1 4\n",
            " 5 1 3 3 1 2 2 3 2 3 5 4 1 4 1 3 0 0 4 0 5 4 2 4 0 0 3 2 1 1 2 5 1 5 0 3 0\n",
            " 3 0 4 3 4 5 4 3 2 0 2 0 0 2 1 2 3 0 3 5 3 0 3 1 0 5 2 5 1 4 4 5 2 1 0 2 4\n",
            " 0 5 1 5 5 5 2 4 0 0 3 5 5 1 4 2 2 0 0 0 5 1 1 1 0 2 4 5 0 1 4 0 2 3 1 5 4\n",
            " 4 4 3 0 1 1 0 4 5 1 0 4 3 1 2 0 2 2 1 0 4 3 5 5 5 3 3 1 2 4 1 5 0 1 4 1 1\n",
            " 1 0 3 0 4 1 4 5 2 4 2]\n",
            "              precision    recall  f1-score   support\n",
            "\n",
            "     Class 0       0.21      0.89      0.34        57\n",
            "     Class 1       0.88      0.15      0.25        48\n",
            "     Class 2       0.22      0.11      0.15        35\n",
            "     Class 3       0.00      0.00      0.00        42\n",
            "     Class 4       0.00      0.00      0.00        40\n",
            "     Class 5       0.00      0.00      0.00        48\n",
            "\n",
            "    accuracy                           0.23       270\n",
            "   macro avg       0.22      0.19      0.12       270\n",
            "weighted avg       0.23      0.23      0.14       270\n",
            "\n",
            "Confusion matrix, without normalization\n",
            "\n",
            "[[51  1  4  1  0  0]\n",
            " [35  7  5  1  0  0]\n",
            " [31  0  4  0  0  0]\n",
            " [39  0  3  0  0  0]\n",
            " [39  0  1  0  0  0]\n",
            " [47  0  1  0  0  0]] \n",
            "\n"
          ],
          "name": "stdout"
        },
        {
          "output_type": "stream",
          "text": [
            "/usr/local/lib/python3.7/dist-packages/sklearn/metrics/_classification.py:1272: UndefinedMetricWarning: Precision and F-score are ill-defined and being set to 0.0 in labels with no predicted samples. Use `zero_division` parameter to control this behavior.\n",
            "  _warn_prf(average, modifier, msg_start, len(result))\n"
          ],
          "name": "stderr"
        },
        {
          "output_type": "display_data",
          "data": {
            "image/png": "[encoded data removed]",
            "text/plain": [
              "<Figure size 432x288 with 2 Axes>"
            ]
          },
          "metadata": {
            "tags": [],
            "needs_background": "light"
          }
        }
      ]
    },
    {
      "cell_type": "markdown",
      "metadata": {
        "id": "fJzxJh5Tl-sZ"
      },
      "source": [
        "# Model 2"
      ]
    },
    {
      "cell_type": "code",
      "metadata": {
        "id": "6qRFnRFrl9wQ"
      },
      "source": [
        "def CNN1D_model_2 (x_train):\n",
        "  model1 = Sequential()\n",
        "  model1.add(Conv1D(512, kernel_size=5, strides=1,\n",
        "                        padding=\"same\", activation=\"relu\",\n",
        "                        input_shape=(x_train.shape[1],1)))\n",
        "  model1.add(BatchNormalization())\n",
        "  model1.add(MaxPooling1D(pool_size=5, strides=2, padding=\"same\"))\n",
        "\n",
        "  model1.add(Conv1D(128, kernel_size=5, strides=1,\n",
        "                        padding=\"same\", activation=\"relu\"))\n",
        "  model1.add(BatchNormalization())\n",
        "  model1.add(MaxPooling1D(pool_size=5, strides=2, padding=\"same\"))\n",
        "\n",
        "  model1.add(Conv1D(256, kernel_size=5, strides=1,\n",
        "                        padding=\"same\", activation=\"relu\"))\n",
        "  model1.add(BatchNormalization())\n",
        "  model1.add(MaxPooling1D(pool_size=5, strides=2, padding=\"same\"))\n",
        "\n",
        "  model1.add(Conv1D(128, kernel_size=3, strides=1, padding='same', activation='relu'))\n",
        "  model1.add(BatchNormalization())\n",
        "  model1.add(MaxPooling1D(pool_size=5, strides = 2, padding = 'same'))\n",
        "\n",
        "  model1.add(Conv1D(128, kernel_size=3, strides=1, padding='same', activation='relu'))\n",
        "  model1.add(BatchNormalization())\n",
        "  model1.add(MaxPooling1D(pool_size=3, strides = 2, padding = 'same'))\n",
        "\n",
        "  model1.add(Flatten())\n",
        "  model1.add(Dropout(0.3))\n",
        "  model1.add(Dense(128, activation='relu'))\n",
        "  model1.add(BatchNormalization())\n",
        "  model1.add(Dropout(0.3))\n",
        "  model1.add(Dense(6, activation=\"softmax\"))\n",
        "\n",
        "  model1.compile(optimizer=\"adam\", loss=\"categorical_crossentropy\", metrics=['accuracy'])\n",
        "\n",
        "  model1.summary()\n",
        "  return model1\n"
      ],
      "execution_count": null,
      "outputs": []
    },
    {
      "cell_type": "markdown",
      "metadata": {
        "id": "hcl33Rc0mcIf"
      },
      "source": [
        "RCV"
      ]
    },
    {
      "cell_type": "code",
      "metadata": {
        "colab": {
          "base_uri": "https://localhost:8080/"
        },
        "id": "SxzV3aX3mFGk",
        "outputId": "2b77229d-5158-4758-fc17-222da001277f"
      },
      "source": [
        "train_X1DM2,train_label1DM2,valid_X1DM2,valid_label1DM2,x_test1DM2,test_Y_one_hot1DM2,y_test1DM2,classes = prepare_data(zero_without,df.label, 1)\n",
        "model_2_zcr = CNN1D_model_2(train_X1DM2)\n",
        "fit_model_1D_1(model_2_zcr,train_X1DM2, train_label1DM2,valid_X1DM2, valid_label1DM2)"
      ],
      "execution_count": null,
      "outputs": [
        {
          "output_type": "stream",
          "text": [
            "Total number of outputs :  6\n",
            "Output classes :  ['angry' 'disgust' 'fear' 'happy' 'neutral' 'sad']\n",
            "original label str : happy\n",
            "Original label: 3\n",
            "After conversion to one-hot: [0. 0. 0. 1. 0. 0.]\n",
            "(630, 6)\n",
            "Model: \"sequential_24\"\n",
            "_________________________________________________________________\n",
            "Layer (type)                 Output Shape              Param #   \n",
            "=================================================================\n",
            "conv1d_15 (Conv1D)           (None, 157, 512)          3072      \n",
            "_________________________________________________________________\n",
            "batch_normalization (BatchNo (None, 157, 512)          2048      \n",
            "_________________________________________________________________\n",
            "max_pooling1d_15 (MaxPooling (None, 79, 512)           0         \n",
            "_________________________________________________________________\n",
            "conv1d_16 (Conv1D)           (None, 79, 128)           327808    \n",
            "_________________________________________________________________\n",
            "batch_normalization_1 (Batch (None, 79, 128)           512       \n",
            "_________________________________________________________________\n",
            "max_pooling1d_16 (MaxPooling (None, 40, 128)           0         \n",
            "_________________________________________________________________\n",
            "conv1d_17 (Conv1D)           (None, 40, 256)           164096    \n",
            "_________________________________________________________________\n",
            "batch_normalization_2 (Batch (None, 40, 256)           1024      \n",
            "_________________________________________________________________\n",
            "max_pooling1d_17 (MaxPooling (None, 20, 256)           0         \n",
            "_________________________________________________________________\n",
            "conv1d_18 (Conv1D)           (None, 20, 128)           98432     \n",
            "_________________________________________________________________\n",
            "batch_normalization_3 (Batch (None, 20, 128)           512       \n",
            "_________________________________________________________________\n",
            "max_pooling1d_18 (MaxPooling (None, 10, 128)           0         \n",
            "_________________________________________________________________\n",
            "conv1d_19 (Conv1D)           (None, 10, 128)           49280     \n",
            "_________________________________________________________________\n",
            "batch_normalization_4 (Batch (None, 10, 128)           512       \n",
            "_________________________________________________________________\n",
            "max_pooling1d_19 (MaxPooling (None, 5, 128)            0         \n",
            "_________________________________________________________________\n",
            "flatten_24 (Flatten)         (None, 640)               0         \n",
            "_________________________________________________________________\n",
            "dropout_57 (Dropout)         (None, 640)               0         \n",
            "_________________________________________________________________\n",
            "dense_54 (Dense)             (None, 128)               82048     \n",
            "_________________________________________________________________\n",
            "batch_normalization_5 (Batch (None, 128)               512       \n",
            "_________________________________________________________________\n",
            "dropout_58 (Dropout)         (None, 128)               0         \n",
            "_________________________________________________________________\n",
            "dense_55 (Dense)             (None, 6)                 774       \n",
            "=================================================================\n",
            "Total params: 730,630\n",
            "Trainable params: 728,070\n",
            "Non-trainable params: 2,560\n",
            "_________________________________________________________________\n",
            "Epoch 1/20\n",
            "75/75 [==============================] - 9s 31ms/step - loss: 2.5022 - accuracy: 0.1891 - val_loss: 1.9744 - val_accuracy: 0.1250\n",
            "Epoch 2/20\n",
            "75/75 [==============================] - 1s 14ms/step - loss: 1.9962 - accuracy: 0.2521 - val_loss: 2.8332 - val_accuracy: 0.1875\n",
            "Epoch 3/20\n",
            "75/75 [==============================] - 1s 14ms/step - loss: 1.9025 - accuracy: 0.2666 - val_loss: 3.8105 - val_accuracy: 0.1875\n",
            "Epoch 4/20\n",
            "75/75 [==============================] - 1s 14ms/step - loss: 1.8187 - accuracy: 0.3067 - val_loss: 3.1793 - val_accuracy: 0.1875\n",
            "Epoch 5/20\n",
            "75/75 [==============================] - 1s 15ms/step - loss: 1.7916 - accuracy: 0.3073 - val_loss: 6.7156 - val_accuracy: 0.1875\n",
            "Epoch 6/20\n",
            "75/75 [==============================] - 1s 15ms/step - loss: 1.7197 - accuracy: 0.2863 - val_loss: 8.7065 - val_accuracy: 0.1875\n",
            "Epoch 7/20\n",
            "75/75 [==============================] - 1s 15ms/step - loss: 1.8708 - accuracy: 0.2339 - val_loss: 12.2829 - val_accuracy: 0.1875\n",
            "Epoch 8/20\n",
            "75/75 [==============================] - 1s 15ms/step - loss: 1.7051 - accuracy: 0.3135 - val_loss: 7.9861 - val_accuracy: 0.2188\n",
            "Epoch 9/20\n",
            "75/75 [==============================] - 1s 15ms/step - loss: 1.7513 - accuracy: 0.2823 - val_loss: 9.8819 - val_accuracy: 0.1875\n",
            "Epoch 10/20\n",
            "75/75 [==============================] - 1s 15ms/step - loss: 1.7240 - accuracy: 0.2907 - val_loss: 3.6223 - val_accuracy: 0.1562\n",
            "Epoch 11/20\n",
            "75/75 [==============================] - 1s 15ms/step - loss: 1.7279 - accuracy: 0.2961 - val_loss: 2.4898 - val_accuracy: 0.2812\n",
            "Epoch 12/20\n",
            "75/75 [==============================] - 1s 15ms/step - loss: 1.6898 - accuracy: 0.3285 - val_loss: 2.6910 - val_accuracy: 0.1562\n",
            "Epoch 13/20\n",
            "75/75 [==============================] - 1s 15ms/step - loss: 1.6232 - accuracy: 0.3330 - val_loss: 4.3344 - val_accuracy: 0.2188\n",
            "Epoch 14/20\n",
            "75/75 [==============================] - 1s 15ms/step - loss: 1.6909 - accuracy: 0.3370 - val_loss: 1.5922 - val_accuracy: 0.3750\n",
            "Epoch 15/20\n",
            "75/75 [==============================] - 1s 15ms/step - loss: 1.6164 - accuracy: 0.3856 - val_loss: 2.3190 - val_accuracy: 0.2500\n",
            "Epoch 16/20\n",
            "75/75 [==============================] - 1s 15ms/step - loss: 1.6059 - accuracy: 0.3694 - val_loss: 1.7622 - val_accuracy: 0.3125\n",
            "Epoch 17/20\n",
            "75/75 [==============================] - 1s 15ms/step - loss: 1.6379 - accuracy: 0.3375 - val_loss: 1.9420 - val_accuracy: 0.2500\n",
            "Epoch 18/20\n",
            "75/75 [==============================] - 1s 15ms/step - loss: 1.5884 - accuracy: 0.3643 - val_loss: 2.0370 - val_accuracy: 0.1875\n",
            "Epoch 19/20\n",
            "75/75 [==============================] - 1s 15ms/step - loss: 1.5959 - accuracy: 0.3520 - val_loss: 4.2135 - val_accuracy: 0.2188\n",
            "Epoch 20/20\n",
            "75/75 [==============================] - 1s 15ms/step - loss: 1.5343 - accuracy: 0.3665 - val_loss: 1.7575 - val_accuracy: 0.2500\n"
          ],
          "name": "stdout"
        }
      ]
    },
    {
      "cell_type": "code",
      "metadata": {
        "colab": {
          "base_uri": "https://localhost:8080/"
        },
        "id": "lZuUE7himKqC",
        "outputId": "336d1912-1c62-4df1-b5d1-9820f9bff43c"
      },
      "source": [
        "pred_zcr2 = accuracy_check(model_2_zcr,\n",
        "                           x_test1DM2,\n",
        "                           test_Y_one_hot1DM2,\n",
        "                           y_test1DM2,\n",
        "                           verbose=0)\n",
        "f_score(pred_zcr2,y_test1DM2)\n",
        "cm_zcr2 = confusion_matrix(y_true=y_test1DM2, y_pred=pred_zcr2)\n",
        "plot_confusion_matrix(cm=cm_zcr2, classes=classes, title='Confusion Matrix')"
      ],
      "execution_count": null,
      "outputs": [
        {
          "output_type": "stream",
          "text": [
            "Test Loss: 1.8591971397399902\n",
            "Test Accuracy: 0.2222222238779068\n",
            "-------------------------------------------------------\n",
            "Labels Check\n",
            "-------------------------------------------------------\n",
            "\n",
            "predicted Labels : \n",
            "\n",
            " [0 0 0 0 0 0 2 0 0 0 0 0 0 0 0 0 0 0 0 0 0 0 0 0 0 0 0 0 0 0 0 0 0 2 2 0 0\n",
            " 0 2 2 0 0 0 0 0 2 0 0 0 2 0 0 0 0 0 2 0 0 2 0 0 0 0 0 0 0 2 0 0 2 0 0 0 0\n",
            " 0 0 2 0 0 0 0 0 0 0 0 0 0 0 0 0 0 0 0 0 0 0 0 0 2 0 0 0 0 0 2 0 0 2 0 2 0\n",
            " 5 0 2 0 2 0 2 0 0 0 0 0 0 0 0 0 0 0 0 2 0 0 0 0 0 0 0 0 0 0 0 0 2 0 0 0 0\n",
            " 0 0 0 0 0 0 0 0 0 0 0 0 0 0 0 0 0 0 0 0 0 0 0 0 0 0 2 0 2 0 0 0 0 2 0 0 0\n",
            " 2 0 2 0 0 0 2 0 0 0 0 0 2 0 0 0 0 0 0 0 0 0 2 0 0 0 0 0 0 0 0 0 0 0 0 0 0\n",
            " 0 0 0 0 0 0 0 0 0 0 0 0 0 2 0 0 0 0 2 0 0 0 0 0 0 0 0 2 0 0 0 0 0 0 0 0 0\n",
            " 0 0 5 0 0 2 0 0 2 0 0]\n",
            "\n",
            "testing Labels : \n",
            "\n",
            " [1 2 3 3 4 0 5 4 0 0 0 3 1 5 5 3 0 5 5 0 5 5 1 3 3 1 5 0 0 2 2 3 1 1 3 5 5\n",
            " 5 5 5 3 4 1 1 3 0 2 3 2 1 5 4 5 1 4 5 5 0 1 0 2 4 2 5 3 1 0 5 3 5 0 5 1 2\n",
            " 5 0 2 5 0 3 4 0 0 3 1 4 3 3 0 4 1 0 2 3 4 0 0 2 0 4 3 3 0 0 0 1 4 1 4 1 4\n",
            " 5 1 3 3 1 2 2 3 2 3 5 4 1 4 1 3 0 0 4 0 5 4 2 4 0 0 3 2 1 1 2 5 1 5 0 3 0\n",
            " 3 0 4 3 4 5 4 3 2 0 2 0 0 2 1 2 3 0 3 5 3 0 3 1 0 5 2 5 1 4 4 5 2 1 0 2 4\n",
            " 0 5 1 5 5 5 2 4 0 0 3 5 5 1 4 2 2 0 0 0 5 1 1 1 0 2 4 5 0 1 4 0 2 3 1 5 4\n",
            " 4 4 3 0 1 1 0 4 5 1 0 4 3 1 2 0 2 2 1 0 4 3 5 5 5 3 3 1 2 4 1 5 0 1 4 1 1\n",
            " 1 0 3 0 4 1 4 5 2 4 2]\n",
            "              precision    recall  f1-score   support\n",
            "\n",
            "     Class 0       0.22      0.89      0.35        57\n",
            "     Class 1       0.00      0.00      0.00        48\n",
            "     Class 2       0.15      0.14      0.14        35\n",
            "     Class 3       0.00      0.00      0.00        42\n",
            "     Class 4       0.00      0.00      0.00        40\n",
            "     Class 5       0.50      0.02      0.04        48\n",
            "\n",
            "    accuracy                           0.21       270\n",
            "   macro avg       0.14      0.18      0.09       270\n",
            "weighted avg       0.15      0.21      0.10       270\n",
            "\n",
            "Confusion matrix, without normalization\n",
            "\n",
            "[[51  0  6  0  0  0]\n",
            " [33  0 15  0  0  0]\n",
            " [30  0  5  0  0  0]\n",
            " [39  0  2  0  0  1]\n",
            " [40  0  0  0  0  0]\n",
            " [41  0  6  0  0  1]] \n",
            "\n"
          ],
          "name": "stdout"
        },
        {
          "output_type": "stream",
          "text": [
            "/usr/local/lib/python3.7/dist-packages/sklearn/metrics/_classification.py:1272: UndefinedMetricWarning: Precision and F-score are ill-defined and being set to 0.0 in labels with no predicted samples. Use `zero_division` parameter to control this behavior.\n",
            "  _warn_prf(average, modifier, msg_start, len(result))\n"
          ],
          "name": "stderr"
        },
        {
          "output_type": "display_data",
          "data": {
            "image/png": "[encoded data removed]",
            "text/plain": [
              "<Figure size 432x288 with 2 Axes>"
            ]
          },
          "metadata": {
            "tags": [],
            "needs_background": "light"
          }
        }
      ]
    },
    {
      "cell_type": "markdown",
      "metadata": {
        "id": "fJpZ2W6omeet"
      },
      "source": [
        "energy"
      ]
    },
    {
      "cell_type": "code",
      "metadata": {
        "colab": {
          "base_uri": "https://localhost:8080/"
        },
        "id": "dTaD7ubRmfce",
        "outputId": "32dad131-26d6-4a1a-8a9a-ca857bbf401c"
      },
      "source": [
        "train_X1DM2_e,train_label1DM2_e,valid_X1DM2_e,valid_label1DM2_e,x_test1DM2_e,test_Y_one_hot1DM2_e,y_test1DM2_e,classes  = prepare_data(energy_without,df.label, 1)\n",
        "model2_energy_e = CNN1D_model_2(train_X1DM2_e)\n",
        "fit_model_1D_1(model2_energy_e,train_X1DM2_e, train_label1DM2_e,valid_X1DM2_e, valid_label1DM2_e)"
      ],
      "execution_count": null,
      "outputs": [
        {
          "output_type": "stream",
          "text": [
            "Total number of outputs :  6\n",
            "Output classes :  ['angry' 'disgust' 'fear' 'happy' 'neutral' 'sad']\n",
            "original label str : happy\n",
            "Original label: 3\n",
            "After conversion to one-hot: [0. 0. 0. 1. 0. 0.]\n",
            "(630, 6)\n",
            "Model: \"sequential_25\"\n",
            "_________________________________________________________________\n",
            "Layer (type)                 Output Shape              Param #   \n",
            "=================================================================\n",
            "conv1d_20 (Conv1D)           (None, 153, 512)          3072      \n",
            "_________________________________________________________________\n",
            "batch_normalization_6 (Batch (None, 153, 512)          2048      \n",
            "_________________________________________________________________\n",
            "max_pooling1d_20 (MaxPooling (None, 77, 512)           0         \n",
            "_________________________________________________________________\n",
            "conv1d_21 (Conv1D)           (None, 77, 128)           327808    \n",
            "_________________________________________________________________\n",
            "batch_normalization_7 (Batch (None, 77, 128)           512       \n",
            "_________________________________________________________________\n",
            "max_pooling1d_21 (MaxPooling (None, 39, 128)           0         \n",
            "_________________________________________________________________\n",
            "conv1d_22 (Conv1D)           (None, 39, 256)           164096    \n",
            "_________________________________________________________________\n",
            "batch_normalization_8 (Batch (None, 39, 256)           1024      \n",
            "_________________________________________________________________\n",
            "max_pooling1d_22 (MaxPooling (None, 20, 256)           0         \n",
            "_________________________________________________________________\n",
            "conv1d_23 (Conv1D)           (None, 20, 128)           98432     \n",
            "_________________________________________________________________\n",
            "batch_normalization_9 (Batch (None, 20, 128)           512       \n",
            "_________________________________________________________________\n",
            "max_pooling1d_23 (MaxPooling (None, 10, 128)           0         \n",
            "_________________________________________________________________\n",
            "conv1d_24 (Conv1D)           (None, 10, 128)           49280     \n",
            "_________________________________________________________________\n",
            "batch_normalization_10 (Batc (None, 10, 128)           512       \n",
            "_________________________________________________________________\n",
            "max_pooling1d_24 (MaxPooling (None, 5, 128)            0         \n",
            "_________________________________________________________________\n",
            "flatten_25 (Flatten)         (None, 640)               0         \n",
            "_________________________________________________________________\n",
            "dropout_59 (Dropout)         (None, 640)               0         \n",
            "_________________________________________________________________\n",
            "dense_56 (Dense)             (None, 128)               82048     \n",
            "_________________________________________________________________\n",
            "batch_normalization_11 (Batc (None, 128)               512       \n",
            "_________________________________________________________________\n",
            "dropout_60 (Dropout)         (None, 128)               0         \n",
            "_________________________________________________________________\n",
            "dense_57 (Dense)             (None, 6)                 774       \n",
            "=================================================================\n",
            "Total params: 730,630\n",
            "Trainable params: 728,070\n",
            "Non-trainable params: 2,560\n",
            "_________________________________________________________________\n",
            "Epoch 1/20\n",
            "75/75 [==============================] - 6s 31ms/step - loss: 2.4073 - accuracy: 0.2067 - val_loss: 1.6360 - val_accuracy: 0.3125\n",
            "Epoch 2/20\n",
            "75/75 [==============================] - 1s 14ms/step - loss: 1.9412 - accuracy: 0.2819 - val_loss: 2.3337 - val_accuracy: 0.2500\n",
            "Epoch 3/20\n",
            "75/75 [==============================] - 1s 14ms/step - loss: 1.7730 - accuracy: 0.3249 - val_loss: 1.9377 - val_accuracy: 0.2812\n",
            "Epoch 4/20\n",
            "75/75 [==============================] - 1s 14ms/step - loss: 1.6942 - accuracy: 0.3306 - val_loss: 2.1588 - val_accuracy: 0.2812\n",
            "Epoch 5/20\n",
            "75/75 [==============================] - 1s 14ms/step - loss: 1.5621 - accuracy: 0.4050 - val_loss: 2.2327 - val_accuracy: 0.3438\n",
            "Epoch 6/20\n",
            "75/75 [==============================] - 1s 14ms/step - loss: 1.6022 - accuracy: 0.3616 - val_loss: 1.9841 - val_accuracy: 0.3125\n",
            "Epoch 7/20\n",
            "75/75 [==============================] - 1s 14ms/step - loss: 1.4765 - accuracy: 0.4148 - val_loss: 1.7329 - val_accuracy: 0.3438\n",
            "Epoch 8/20\n",
            "75/75 [==============================] - 1s 14ms/step - loss: 1.4954 - accuracy: 0.4130 - val_loss: 1.6838 - val_accuracy: 0.4688\n",
            "Epoch 9/20\n",
            "75/75 [==============================] - 1s 14ms/step - loss: 1.4956 - accuracy: 0.4042 - val_loss: 1.6261 - val_accuracy: 0.4062\n",
            "Epoch 10/20\n",
            "75/75 [==============================] - 1s 15ms/step - loss: 1.5835 - accuracy: 0.3667 - val_loss: 2.0223 - val_accuracy: 0.2812\n",
            "Epoch 11/20\n",
            "75/75 [==============================] - 1s 15ms/step - loss: 1.4953 - accuracy: 0.4484 - val_loss: 2.1536 - val_accuracy: 0.3125\n",
            "Epoch 12/20\n",
            "75/75 [==============================] - 1s 15ms/step - loss: 1.3828 - accuracy: 0.4408 - val_loss: 2.9347 - val_accuracy: 0.3125\n",
            "Epoch 13/20\n",
            "75/75 [==============================] - 1s 15ms/step - loss: 1.4862 - accuracy: 0.3887 - val_loss: 1.7429 - val_accuracy: 0.2500\n",
            "Epoch 14/20\n",
            "75/75 [==============================] - 1s 15ms/step - loss: 1.5026 - accuracy: 0.4064 - val_loss: 2.2317 - val_accuracy: 0.3438\n",
            "Epoch 15/20\n",
            "75/75 [==============================] - 1s 15ms/step - loss: 1.4528 - accuracy: 0.4235 - val_loss: 1.6853 - val_accuracy: 0.3438\n",
            "Epoch 16/20\n",
            "75/75 [==============================] - 1s 15ms/step - loss: 1.5491 - accuracy: 0.3568 - val_loss: 1.6132 - val_accuracy: 0.4062\n",
            "Epoch 17/20\n",
            "75/75 [==============================] - 1s 15ms/step - loss: 1.4497 - accuracy: 0.4298 - val_loss: 1.6877 - val_accuracy: 0.3438\n",
            "Epoch 18/20\n",
            "75/75 [==============================] - 1s 15ms/step - loss: 1.4236 - accuracy: 0.3971 - val_loss: 1.4402 - val_accuracy: 0.4062\n",
            "Epoch 19/20\n",
            "75/75 [==============================] - 1s 15ms/step - loss: 1.3811 - accuracy: 0.4670 - val_loss: 1.4273 - val_accuracy: 0.4062\n",
            "Epoch 20/20\n",
            "75/75 [==============================] - 1s 15ms/step - loss: 1.4038 - accuracy: 0.4489 - val_loss: 1.7189 - val_accuracy: 0.3438\n"
          ],
          "name": "stdout"
        }
      ]
    },
    {
      "cell_type": "code",
      "metadata": {
        "colab": {
          "base_uri": "https://localhost:8080/"
        },
        "id": "FPW2YPAYm2Tz",
        "outputId": "68f5cce1-a091-4886-ad90-fe03d78d4d64"
      },
      "source": [
        "p = accuracy_check(model2_energy_e,x_test1DM2_e,test_Y_one_hot1DM2_e,y_test1DM2_e,0)\n",
        "f_score(p,y_test1DM2_e)\n",
        "cm_energy2 = confusion_matrix(y_true=y_test1DM2_e, y_pred=p)\n",
        "plot_confusion_matrix(cm=cm_energy2, classes=classes, title='Confusion Matrix')\n"
      ],
      "execution_count": null,
      "outputs": [
        {
          "output_type": "stream",
          "text": [
            "Test Loss: 1.6577680110931396\n",
            "Test Accuracy: 0.41111111640930176\n",
            "-------------------------------------------------------\n",
            "Labels Check\n",
            "-------------------------------------------------------\n",
            "\n",
            "predicted Labels : \n",
            "\n",
            " [0 5 5 5 0 0 5 5 0 0 0 5 5 0 5 0 2 5 5 0 0 5 5 4 0 0 0 5 0 3 5 0 1 0 0 0 5\n",
            " 5 5 5 0 5 5 5 0 0 0 0 5 0 5 0 5 5 0 0 5 4 0 0 0 0 3 5 0 0 0 5 3 5 0 5 5 3\n",
            " 5 0 5 5 0 2 0 0 0 0 1 0 0 0 0 5 0 0 5 4 5 0 0 0 0 0 5 0 0 0 0 0 0 0 0 0 5\n",
            " 5 5 5 0 0 5 5 3 0 0 0 5 0 0 0 0 0 0 5 0 5 0 3 0 0 0 0 5 5 5 0 4 2 5 0 0 0\n",
            " 0 0 0 2 5 5 5 0 0 0 0 0 0 5 0 0 0 0 0 0 5 0 0 0 0 5 5 5 0 0 0 5 0 0 0 5 5\n",
            " 0 5 5 5 5 0 5 0 0 0 3 5 5 0 0 5 0 0 0 0 5 0 0 5 0 0 0 5 0 5 5 0 5 0 0 5 0\n",
            " 0 0 0 0 1 5 0 5 5 5 0 0 0 5 2 3 0 0 5 0 2 3 5 0 5 0 0 5 0 3 0 5 0 0 5 5 5\n",
            " 5 0 0 0 5 2 0 5 5 0 5]\n",
            "\n",
            "testing Labels : \n",
            "\n",
            " [1 2 3 3 4 0 5 4 0 0 0 3 1 5 5 3 0 5 5 0 5 5 1 3 3 1 5 0 0 2 2 3 1 1 3 5 5\n",
            " 5 5 5 3 4 1 1 3 0 2 3 2 1 5 4 5 1 4 5 5 0 1 0 2 4 2 5 3 1 0 5 3 5 0 5 1 2\n",
            " 5 0 2 5 0 3 4 0 0 3 1 4 3 3 0 4 1 0 2 3 4 0 0 2 0 4 3 3 0 0 0 1 4 1 4 1 4\n",
            " 5 1 3 3 1 2 2 3 2 3 5 4 1 4 1 3 0 0 4 0 5 4 2 4 0 0 3 2 1 1 2 5 1 5 0 3 0\n",
            " 3 0 4 3 4 5 4 3 2 0 2 0 0 2 1 2 3 0 3 5 3 0 3 1 0 5 2 5 1 4 4 5 2 1 0 2 4\n",
            " 0 5 1 5 5 5 2 4 0 0 3 5 5 1 4 2 2 0 0 0 5 1 1 1 0 2 4 5 0 1 4 0 2 3 1 5 4\n",
            " 4 4 3 0 1 1 0 4 5 1 0 4 3 1 2 0 2 2 1 0 4 3 5 5 5 3 3 1 2 4 1 5 0 1 4 1 1\n",
            " 1 0 3 0 4 1 4 5 2 4 2]\n",
            "              precision    recall  f1-score   support\n",
            "\n",
            "     Class 0       0.35      0.93      0.51        57\n",
            "     Class 1       1.00      0.06      0.12        48\n",
            "     Class 2       0.14      0.03      0.05        35\n",
            "     Class 3       0.40      0.10      0.15        42\n",
            "     Class 4       0.00      0.00      0.00        40\n",
            "     Class 5       0.40      0.79      0.53        48\n",
            "\n",
            "    accuracy                           0.37       270\n",
            "   macro avg       0.38      0.32      0.23       270\n",
            "weighted avg       0.40      0.37      0.25       270\n",
            "\n",
            "Confusion matrix, without normalization\n",
            "\n",
            "[[53  0  1  1  1  1]\n",
            " [23  3  2  0  0 20]\n",
            " [14  0  1  4  0 16]\n",
            " [28  0  2  4  2  6]\n",
            " [24  0  1  1  0 14]\n",
            " [ 9  0  0  0  1 38]] \n",
            "\n"
          ],
          "name": "stdout"
        },
        {
          "output_type": "display_data",
          "data": {
            "image/png": "[encoded data removed]",
            "text/plain": [
              "<Figure size 432x288 with 2 Axes>"
            ]
          },
          "metadata": {
            "tags": [],
            "needs_background": "light"
          }
        }
      ]
    },
    {
      "cell_type": "markdown",
      "metadata": {
        "id": "TAahdBNBm_rV"
      },
      "source": [
        "--------------------------------------------------------------------------------------------------------"
      ]
    },
    {
      "cell_type": "markdown",
      "metadata": {
        "id": "n0dz_3ET9qHj"
      },
      "source": [
        "# Zero Crossing Rate Noise Model1\n"
      ]
    },
    {
      "cell_type": "code",
      "metadata": {
        "id": "rdEIE3zXDA20"
      },
      "source": [
        "train_X1D_noise,train_label1D_noise,valid_X1D_noise,valid_label1D_noise,x_test1D_noise,test_Y_one_hot1D_noise,y_test1D_noise,classes  = prepare_data(zero_noise,label, 1)\n",
        "model_zcr_noise = CNN1D_model_1(train_X1D_noise)\n",
        "fit_model_1D_1(model_zcr_noise,train_X1D_noise, train_label1D_noise,valid_X1D_noise, valid_label1D_noise)\n"
      ],
      "execution_count": null,
      "outputs": []
    },
    {
      "cell_type": "code",
      "metadata": {
        "id": "CSQKFjFAFW3S"
      },
      "source": [
        "pred_zcr_noise = accuracy_check(model_zcr_noise,x_test1D_noise,\n",
        "                                test_Y_one_hot1D_noise,\n",
        "                                y_test1D_noise,verbose=0)\n",
        "f_score(pred_zcr_noise,y_test1D_noise)\n",
        "cm_zcr_noise = confusion_matrix(y_true=y_test1D_noise, y_pred=pred_zcr_noise)\n",
        "plot_confusion_matrix(cm=cm_zcr_noise, classes=classes, title='Confusion Matrix')"
      ],
      "execution_count": null,
      "outputs": []
    },
    {
      "cell_type": "markdown",
      "metadata": {
        "id": "NF4R-GDu-gWC"
      },
      "source": [
        "# Zero Crossing Rate All Model1"
      ]
    },
    {
      "cell_type": "code",
      "metadata": {
        "id": "LbUn6xrHFd4D"
      },
      "source": [
        "train_X1D_all,train_label1D_all,valid_X1D_all,valid_label1D_all,x_test1D_all,test_Y_one_hot1D_all,y_test1D_all,classes  = prepare_data(zero,label_300, 1)\n",
        "model_zcr_all = CNN1D_model_1(train_X1D_all)\n",
        "fit_model_1D_1(model_zcr_all,train_X1D_all, train_label1D_all,valid_X1D_all, valid_label1D_all)"
      ],
      "execution_count": null,
      "outputs": []
    },
    {
      "cell_type": "code",
      "metadata": {
        "id": "zxk2Qcp5F_O4"
      },
      "source": [
        "# all_acc(model_zcr_all,x_test1D_all,test_Y_one_hot1D_all,y_test1D_noise,0)\n",
        "pred_zcr_all = accuracy_check(model_zcr_all,x_test1D_all,\n",
        "                                test_Y_one_hot1D_all,\n",
        "                                y_test1D_noise,verbose=0)\n",
        "f_score(pred_zcr_noise,y_test1D_noise)\n",
        "cm_zcr_noise = confusion_matrix(y_true=y_test1D_noise, y_pred=pred_zcr_noise)\n",
        "plot_confusion_matrix(cm=cm_zcr_noise, classes=classes, title='Confusion Matrix')"
      ],
      "execution_count": null,
      "outputs": []
    },
    {
      "cell_type": "markdown",
      "metadata": {
        "id": "PMji6eIbHBw7"
      },
      "source": [
        "# Zero Crossing Rate noise Model2"
      ]
    },
    {
      "cell_type": "code",
      "metadata": {
        "id": "tWlasJtII2d6"
      },
      "source": [
        "train_X1DM2_noise,train_label1DM2_noise,valid_X1DM2_noise,valid_label1DM2_noise,x_test1DM2_noise,test_Y_one_hot1DM2_noise,y_test1DM2_noise,classes  = prepare_data(zero_noise,label, 1)\n",
        "model2_zcr_noise = CNN1D_model_2(train_X1DM2_noise)\n",
        "fit_model_1D_1(model2_zcr_noise,train_X1DM2_noise, train_label1DM2_noise,valid_X1DM2_noise, valid_label1DM2_noise)"
      ],
      "execution_count": null,
      "outputs": []
    },
    {
      "cell_type": "code",
      "metadata": {
        "id": "TaZB-zP4JmGl"
      },
      "source": [
        "# all_acc_1D(model2_zcr_noise)\n",
        "pred_zcr2=accuracy_check(model2_zcr_noise,x_test1DM2_noise,test_Y_one_hot1DM2_noise,y_test1DM2_noise,0)\n",
        "f_score(pred_zcr2,y_test1DM2_noise)\n",
        "cm_zcr2_noise = confusion_matrix(y_true=y_test1DM2_noise, y_pred=pred_zcr2)\n",
        "plot_confusion_matrix(cm=cm_zcr2_noise, classes=classes, title='Confusion Matrix')"
      ],
      "execution_count": null,
      "outputs": []
    },
    {
      "cell_type": "markdown",
      "metadata": {
        "id": "_uf4f9l5ktFU"
      },
      "source": [
        "#Energy all model2"
      ]
    },
    {
      "cell_type": "code",
      "metadata": {
        "id": "J8h_-tRZOmrq"
      },
      "source": [
        "train_X1DM2_all,train_label1DM2_all,valid_X1DM2_all,valid_label1DM2_all,x_test1DM2_all,test_Y_one_hot1DM2_all,y_test1DM2_all,classes  = prepare_data(energy,label_300, 1)\n",
        "model2_energy_all = CNN1D_model_2(train_X1DM2_all)\n",
        "fit_model_1D_1(model2_energy_all,train_X1DM2_all, train_label1DM2_all,valid_X1DM2_all, valid_label1DM2_all)"
      ],
      "execution_count": null,
      "outputs": []
    },
    {
      "cell_type": "code",
      "metadata": {
        "id": "pgvmjn2ZQD0H"
      },
      "source": [
        "pred2=accuracy_check(model2_energy_all,x_test1DM2_all,test_Y_one_hot1DM2_all,y_test1DM2_all,0)\n",
        "f_score(pred2,y_test1DM2_all)\n",
        "cm_energy2_all = confusion_matrix(y_true=y_test1DM2_all, y_pred=pred2)\n",
        "plot_confusion_matrix(cm=cm_energy2_all, classes=classes, title='Confusion Matrix')"
      ],
      "execution_count": null,
      "outputs": []
    },
    {
      "cell_type": "markdown",
      "metadata": {
        "id": "MN8ek-3-HxgS"
      },
      "source": [
        "# Extra"
      ]
    },
    {
      "cell_type": "code",
      "metadata": {
        "id": "DTtgo6ca0WAe"
      },
      "source": [
        "history1 = model1.fit(train_X1D, train_label1D, \n",
        "                                  batch_size=batch_size,\n",
        "                                  epochs=epochs,verbose=1,\n",
        "                                  validation_data=(valid_X1D, valid_label1D))"
      ],
      "execution_count": null,
      "outputs": []
    },
    {
      "cell_type": "code",
      "metadata": {
        "id": "xDF5t41p1iqu"
      },
      "source": [
        "test1_eval1D = model1.evaluate(x_test1D, test_Y_one_hot1D, verbose=0)\n",
        "print('Test loss:', test1_eval1D[0])\n",
        "print('Test accuracy:', test1_eval1D[1])\n",
        "\n",
        "predicted1_classes1D = model1.predict(x_test1D)\n",
        "predicted1_classes1D = np.argmax(np.round(predicted1_classes1D),axis=1)\n",
        "predicted1_classes1D.shape, y_test1D.shape"
      ],
      "execution_count": null,
      "outputs": []
    }
  ]
}